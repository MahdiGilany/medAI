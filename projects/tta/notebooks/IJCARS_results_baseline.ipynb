{
 "cells": [
  {
   "cell_type": "code",
   "execution_count": 1,
   "metadata": {},
   "outputs": [
    {
     "name": "stdout",
     "output_type": "stream",
     "text": [
      "/fs01/home/abbasgln/codes/medAI/projects/tta\n"
     ]
    }
   ],
   "source": [
    "%cd .."
   ]
  },
  {
   "cell_type": "code",
   "execution_count": 2,
   "metadata": {},
   "outputs": [],
   "source": [
    "import os\n",
    "from dotenv import load_dotenv\n",
    "# Loading environment variables\n",
    "load_dotenv()\n",
    "\n",
    "import torch\n",
    "import torch.nn as nn\n",
    "import typing as tp\n",
    "import numpy as np\n",
    "import torch.optim as optim\n",
    "from torch.utils.data import DataLoader\n",
    "from dataclasses import dataclass, field\n",
    "import logging\n",
    "import wandb\n",
    "\n",
    "import medAI\n",
    "from medAI.utils.setup import BasicExperiment, BasicExperimentConfig\n",
    "\n",
    "from utils.metrics import MetricCalculator, brier_score, expected_calibration_error\n",
    "\n",
    "from timm.optim.optim_factory import create_optimizer\n",
    "\n",
    "from einops import rearrange, repeat\n",
    "from tqdm.auto import tqdm\n",
    "import matplotlib.pyplot as plt\n",
    "import timm\n",
    "\n",
    "from copy import copy, deepcopy\n",
    "import pandas as pd\n",
    "\n",
    "from datasets.datasets import ExactNCT2013RFImagePatches\n",
    "from medAI.datasets.nct2013 import (\n",
    "    KFoldCohortSelectionOptions,\n",
    "    LeaveOneCenterOutCohortSelectionOptions, \n",
    "    PatchOptions\n",
    ")\n"
   ]
  },
  {
   "cell_type": "code",
   "execution_count": 3,
   "metadata": {},
   "outputs": [],
   "source": [
    "LEAVE_OUT='JH'"
   ]
  },
  {
   "cell_type": "markdown",
   "metadata": {},
   "source": [
    "## Data Baseline"
   ]
  },
  {
   "cell_type": "code",
   "execution_count": 4,
   "metadata": {},
   "outputs": [
    {
     "name": "stderr",
     "output_type": "stream",
     "text": [
      "Computing positions:  76%|███████▌  | 1215/1599 [00:13<00:06, 63.77it/s] "
     ]
    }
   ],
   "source": [
    "from baseline_experiment import BaselineConfig\n",
    "config = BaselineConfig(\n",
    "    instance_norm = True,\n",
    "    cohort_selection_config=LeaveOneCenterOutCohortSelectionOptions(leave_out=f\"{LEAVE_OUT}\")\n",
    "    )\n",
    "\n",
    "from baseline_experiment import BaselineConfig\n",
    "from torchvision.transforms import v2 as T\n",
    "from torchvision.tv_tensors import Image as TVImage\n",
    "\n",
    "class Transform:\n",
    "    def __init__(selfT, augment=False):\n",
    "        selfT.augment = augment\n",
    "        selfT.size = (256, 256)\n",
    "    \n",
    "    def __call__(selfT, item):\n",
    "        patch = item.pop(\"patch\")\n",
    "        patch = copy(patch)\n",
    "        patch = (patch - patch.min()) / (patch.max() - patch.min()) \\\n",
    "            if config.instance_norm else patch\n",
    "        patch = TVImage(patch)\n",
    "        # patch = T.ToImage()(patch)\n",
    "        # patch = T.ToTensor()(patch)\n",
    "        patch = T.Resize(selfT.size, antialias=True)(patch).float()\n",
    "        \n",
    "        \n",
    "        if selfT.augment:\n",
    "            # Augment support patches\n",
    "            transform = T.Compose([\n",
    "                T.RandomAffine(degrees=0, translate=(0.1, 0.1)),\n",
    "                T.RandomHorizontalFlip(p=0.5),\n",
    "                T.RandomVerticalFlip(p=0.5),\n",
    "            ])  \n",
    "            patch = transform(patch)\n",
    "        \n",
    "        label = torch.tensor(item[\"grade\"] != \"Benign\").long()\n",
    "        return patch, label, item\n",
    "\n",
    "\n",
    "\n",
    "# val_ds = ExactNCT2013RFImagePatches(\n",
    "#     split=\"val\",\n",
    "#     transform=Transform(),\n",
    "#     cohort_selection_options=config.cohort_selection_config,\n",
    "#     patch_options=config.patch_config,\n",
    "#     debug=config.debug,\n",
    "# )\n",
    "        \n",
    "test_ds = ExactNCT2013RFImagePatches(\n",
    "    split=\"test\",\n",
    "    transform=Transform(),\n",
    "    cohort_selection_options=config.cohort_selection_config,\n",
    "    patch_options=config.patch_config,\n",
    "    debug=config.debug,\n",
    ")\n",
    "\n",
    "\n",
    "# val_loader = DataLoader(\n",
    "#     val_ds_memo, batch_size=config.batch_size_test, shuffle=config.shffl_test, num_workers=4\n",
    "# )\n",
    "test_loader = DataLoader(\n",
    "    test_ds, batch_size=config.batch_size, shuffle=False, num_workers=4\n",
    ")\n",
    "\n"
   ]
  },
  {
   "cell_type": "markdown",
   "metadata": {},
   "source": [
    "## Model"
   ]
  },
  {
   "cell_type": "code",
   "execution_count": null,
   "metadata": {},
   "outputs": [],
   "source": [
    "use_batch_norm = True\n",
    "\n",
    "from baseline_experiment import FeatureExtractorConfig\n",
    "\n",
    "fe_config = FeatureExtractorConfig()\n",
    "\n",
    "if use_batch_norm:\n",
    "    norm_layer = nn.BatchNorm2d\n",
    "else:\n",
    "    norm_layer = lambda channels: nn.GroupNorm(\n",
    "            num_groups=config.model_config.num_groups,\n",
    "            num_channels=channels\n",
    "            )\n",
    "\n",
    "# Create the model\n",
    "list_models: nn.Module = timm.create_model(\n",
    "    fe_config.model_name,\n",
    "    num_classes=fe_config.num_classes,\n",
    "    in_chans=1,\n",
    "    features_only=fe_config.features_only,\n",
    "    norm_layer=norm_layer\n",
    "    )\n",
    "\n",
    "# CHECkPOINT_PATH = os.path.join(os.getcwd(), f'logs/tta/baseline_gn_loco/baseline_gn_{LEAVE_OUT}_loco/checkpoints/', 'best_model.ckpt')\n",
    "CHECkPOINT_PATH = os.path.join(\n",
    "    os.getenv(\"DATA_ROOT\"),\n",
    "    f'checkpoint_store/Mahdi/baseline_bn_inst-nrm_loco/baseline_bn_inst-nrm_loco_{LEAVE_OUT}/',\n",
    "    'best_model.ckpt'\n",
    "    )\n",
    "\n",
    "state = torch.load(CHECkPOINT_PATH)['list_models']\n",
    "[model.load_state_dict(state[i]) for i, model in enumerate(list_models)]\n",
    "[model.eval() for model in list_models]\n",
    "[model.cuda() for model in list_models]\n",
    "\n",
    "a = True"
   ]
  },
  {
   "cell_type": "markdown",
   "metadata": {},
   "source": [
    "## Run test Ensemble"
   ]
  },
  {
   "cell_type": "code",
   "execution_count": null,
   "metadata": {},
   "outputs": [
    {
     "data": {
      "application/vnd.jupyter.widget-view+json": {
       "model_id": "d41024f06c6642f982e4fa3303d83cdc",
       "version_major": 2,
       "version_minor": 0
      },
      "text/plain": [
       "test:   0%|          | 0/726 [00:00<?, ?it/s]"
      ]
     },
     "metadata": {},
     "output_type": "display_data"
    }
   ],
   "source": [
    "loader = test_loader\n",
    "\n",
    "metric_calculator = MetricCalculator()\n",
    "desc = \"test\"\n",
    "\n",
    "for i, batch in enumerate(tqdm(loader, desc=desc)):\n",
    "    images, labels, meta_data = batch\n",
    "    images = images.cuda()\n",
    "    labels = labels.cuda()\n",
    "    \n",
    "    # Forward pass\n",
    "    logits = torch.stack([model(images) for model in list_models])\n",
    "        \n",
    "    # Update metrics   \n",
    "    metric_calculator.update(\n",
    "        batch_meta_data = meta_data,\n",
    "        probs = nn.functional.softmax(logits, dim=-1).mean(dim=0).detach().cpu(), # Take mean over ensembles\n",
    "        labels = labels.detach().cpu(),\n",
    "    )"
   ]
  },
  {
   "cell_type": "code",
   "execution_count": null,
   "metadata": {},
   "outputs": [
    {
     "data": {
      "text/plain": [
       "{'test/patch_auroc': tensor(0.6053),\n",
       " 'test/patch_accuracy': tensor(0.4780),\n",
       " 'test/all_inv_patch_auroc': tensor(0.5788),\n",
       " 'test/all_inv_patch_accuracy': tensor(0.4803),\n",
       " 'test/core_auroc': tensor(0.7015),\n",
       " 'test/core_accuracy': tensor(0.4562),\n",
       " 'test/all_inv_core_auroc': tensor(0.6517),\n",
       " 'test/all_inv_core_accuracy': tensor(0.4622)}"
      ]
     },
     "execution_count": 7,
     "metadata": {},
     "output_type": "execute_result"
    }
   ],
   "source": [
    "# Log metrics every epoch\n",
    "metrics = metric_calculator.get_metrics()\n",
    "\n",
    "# Update best score\n",
    "(\n",
    "    best_score_updated,\n",
    "    best_score\n",
    "    ) = metric_calculator.update_best_score(metrics, desc)\n",
    "\n",
    "best_score_updated = copy(best_score_updated)\n",
    "best_score = copy(best_score)\n",
    "        \n",
    "# Log metrics\n",
    "metrics_dict = {\n",
    "    f\"{desc}/{key}\": value for key, value in metrics.items()\n",
    "    }\n",
    "metrics_dict.update(best_score) if desc == \"val\" else None \n",
    "\n",
    "metrics_dict"
   ]
  },
  {
   "cell_type": "markdown",
   "metadata": {},
   "source": [
    "## Get core and patch probs"
   ]
  },
  {
   "cell_type": "code",
   "execution_count": null,
   "metadata": {},
   "outputs": [],
   "source": [
    "high_core_ids = metric_calculator.remove_low_inv_ids(metric_calculator.core_id_invs)\n",
    "ids = high_core_ids # metric_calculator.core_id_invs\n",
    "\n",
    "patch_probs = torch.cat(\n",
    "    [torch.stack(probs_list) for id, probs_list in metric_calculator.core_id_probs.items() if id in ids]\n",
    "    )\n",
    "patch_labels = torch.cat(\n",
    "    [torch.tensor(labels_list) for id, labels_list in metric_calculator.core_id_labels.items() if id in ids]\n",
    "    )\n",
    "\n",
    "core_probs = torch.stack(\n",
    "    [torch.stack(probs_list).argmax(dim=1).mean(dim=0, dtype=torch.float32)\n",
    "    for id, probs_list in metric_calculator.core_id_probs.items() if id in ids])\n",
    "core_probs = torch.cat([(1 - core_probs).unsqueeze(1), core_probs.unsqueeze(1)], dim=1)\n",
    "\n",
    "core_labels = torch.stack(\n",
    "    [labels_list[0] for id, labels_list in metric_calculator.core_id_labels.items() if id in ids])"
   ]
  },
  {
   "cell_type": "markdown",
   "metadata": {},
   "source": [
    "## Sensitivity and Specificity"
   ]
  },
  {
   "cell_type": "code",
   "execution_count": null,
   "metadata": {},
   "outputs": [
    {
     "data": {
      "text/plain": [
       "{'test/patch_auroc': tensor(0.6053),\n",
       " 'test/patch_accuracy': tensor(0.4780),\n",
       " 'test/all_inv_patch_auroc': tensor(0.5788),\n",
       " 'test/all_inv_patch_accuracy': tensor(0.4803),\n",
       " 'test/core_auroc': tensor(0.7015),\n",
       " 'test/core_accuracy': tensor(0.4562),\n",
       " 'test/all_inv_core_auroc': tensor(0.6517),\n",
       " 'test/all_inv_core_accuracy': tensor(0.4622),\n",
       " 'test/patch_sensitivity': tensor(0.6987),\n",
       " 'test/patch_specificity': tensor(0.4650),\n",
       " 'test/core_sensitivity': tensor(0.8182),\n",
       " 'test/core_specificity': tensor(0.4349)}"
      ]
     },
     "execution_count": 9,
     "metadata": {},
     "output_type": "execute_result"
    }
   ],
   "source": [
    "import torchmetrics\n",
    "tpos, fpos, tneg, fneg, _support = torchmetrics.functional.stat_scores(preds=patch_probs.argmax(dim=-1), target=patch_labels, task=\"binary\")\n",
    "patch_sensitivity = tpos / (tpos + fneg)\n",
    "patch_specificity = tneg / (tneg + fpos)\n",
    "\n",
    "tpos, fpos, tneg, fneg, _support = torchmetrics.functional.stat_scores(preds=core_probs.argmax(dim=-1), target=core_labels, task=\"binary\")\n",
    "core_sensitivity = tpos / (tpos + fneg)\n",
    "core_specificity = tneg / (tneg + fpos)\n",
    "\n",
    "metrics_dict.update({\n",
    "    f\"{desc}/patch_sensitivity\": patch_sensitivity,\n",
    "    f\"{desc}/patch_specificity\": patch_specificity,\n",
    "    f\"{desc}/core_sensitivity\": core_sensitivity,\n",
    "    f\"{desc}/core_specificity\": core_specificity,\n",
    "    })\n",
    "metrics_dict"
   ]
  },
  {
   "cell_type": "markdown",
   "metadata": {},
   "source": [
    "## Brier and ECE metrics"
   ]
  },
  {
   "cell_type": "code",
   "execution_count": null,
   "metadata": {},
   "outputs": [],
   "source": [
    "patch_probs_1d = patch_probs[range(len(patch_labels)), patch_labels]\n",
    "patch_brier = brier_score(patch_probs_1d.numpy(), patch_labels.numpy())\n",
    "patch_ece, _ = expected_calibration_error(preds=patch_probs.argmax(dim=-1).numpy(), confidence=patch_probs_1d.numpy(), targets=patch_labels.numpy())\n",
    "metrics_dict.update({\n",
    "    f\"{desc}/patch_brier\": patch_brier,\n",
    "    f\"{desc}/patch_ece\": patch_ece,\n",
    "})"
   ]
  },
  {
   "cell_type": "code",
   "execution_count": null,
   "metadata": {},
   "outputs": [
    {
     "data": {
      "text/plain": [
       "{'test/patch_auroc': tensor(0.6053),\n",
       " 'test/patch_accuracy': tensor(0.4780),\n",
       " 'test/all_inv_patch_auroc': tensor(0.5788),\n",
       " 'test/all_inv_patch_accuracy': tensor(0.4803),\n",
       " 'test/core_auroc': tensor(0.7015),\n",
       " 'test/core_accuracy': tensor(0.4562),\n",
       " 'test/all_inv_core_auroc': tensor(0.6517),\n",
       " 'test/all_inv_core_accuracy': tensor(0.4622),\n",
       " 'test/patch_sensitivity': tensor(0.6987),\n",
       " 'test/patch_specificity': tensor(0.4650),\n",
       " 'test/core_sensitivity': tensor(0.8182),\n",
       " 'test/core_specificity': tensor(0.4349),\n",
       " 'test/patch_brier': 0.4661571344453136,\n",
       " 'test/patch_ece': 0.3196506589009119,\n",
       " 'test/core_brier': 0.36878274075158296,\n",
       " 'test/core_ece': 0.31019111903725377}"
      ]
     },
     "execution_count": 11,
     "metadata": {},
     "output_type": "execute_result"
    }
   ],
   "source": [
    "core_probs_1d = core_probs[range(len(core_labels)), core_labels]\n",
    "core_brier = brier_score(core_probs_1d.numpy(), core_labels.numpy())\n",
    "core_ece, _ = expected_calibration_error(preds=core_probs.argmax(dim=-1).numpy(), confidence=core_probs_1d.numpy(), targets=core_labels.numpy())\n",
    "metrics_dict.update({\n",
    "    f\"{desc}/core_brier\": core_brier,\n",
    "    f\"{desc}/core_ece\": core_ece,\n",
    "})\n",
    "metrics_dict"
   ]
  },
  {
   "cell_type": "code",
   "execution_count": null,
   "metadata": {},
   "outputs": [
    {
     "name": "stderr",
     "output_type": "stream",
     "text": [
      "Failed to detect the name of this notebook, you can set it manually with the WANDB_NOTEBOOK_NAME environment variable to enable code saving.\n"
     ]
    },
    {
     "name": "stderr",
     "output_type": "stream",
     "text": [
      "\u001b[34m\u001b[1mwandb\u001b[0m: Currently logged in as: \u001b[33mmahdigilany\u001b[0m. Use \u001b[1m`wandb login --relogin`\u001b[0m to force relogin\n"
     ]
    },
    {
     "data": {
      "text/html": [
       "wandb version 0.16.1 is available!  To upgrade, please run:\n",
       " $ pip install wandb --upgrade"
      ],
      "text/plain": [
       "<IPython.core.display.HTML object>"
      ]
     },
     "metadata": {},
     "output_type": "display_data"
    },
    {
     "data": {
      "text/html": [
       "Tracking run with wandb version 0.16.0"
      ],
      "text/plain": [
       "<IPython.core.display.HTML object>"
      ]
     },
     "metadata": {},
     "output_type": "display_data"
    },
    {
     "data": {
      "text/html": [
       "Run data is saved locally in <code>/fs01/home/abbasgln/codes/medAI/projects/tta/wandb/run-20231227_131737-b3o1rrfs</code>"
      ],
      "text/plain": [
       "<IPython.core.display.HTML object>"
      ]
     },
     "metadata": {},
     "output_type": "display_data"
    },
    {
     "data": {
      "text/html": [
       "Syncing run <strong><a href='https://wandb.ai/mahdigilany/tta/runs/b3o1rrfs' target=\"_blank\">offline_ensemble_bn_10mdls_inst-nrm_loco_JH</a></strong> to <a href='https://wandb.ai/mahdigilany/tta' target=\"_blank\">Weights & Biases</a> (<a href='https://wandb.me/run' target=\"_blank\">docs</a>)<br/>"
      ],
      "text/plain": [
       "<IPython.core.display.HTML object>"
      ]
     },
     "metadata": {},
     "output_type": "display_data"
    },
    {
     "data": {
      "text/html": [
       " View project at <a href='https://wandb.ai/mahdigilany/tta' target=\"_blank\">https://wandb.ai/mahdigilany/tta</a>"
      ],
      "text/plain": [
       "<IPython.core.display.HTML object>"
      ]
     },
     "metadata": {},
     "output_type": "display_data"
    },
    {
     "data": {
      "text/html": [
       " View run at <a href='https://wandb.ai/mahdigilany/tta/runs/b3o1rrfs' target=\"_blank\">https://wandb.ai/mahdigilany/tta/runs/b3o1rrfs</a>"
      ],
      "text/plain": [
       "<IPython.core.display.HTML object>"
      ]
     },
     "metadata": {},
     "output_type": "display_data"
    },
    {
     "data": {
      "text/html": [
       "<button onClick=\"this.nextSibling.style.display='block';this.style.display='none';\">Display W&B run</button><iframe src='https://wandb.ai/mahdigilany/tta/runs/b3o1rrfs?jupyter=true' style='border:none;width:100%;height:420px;display:none;'></iframe>"
      ],
      "text/plain": [
       "<wandb.sdk.wandb_run.Run at 0x7fa914457eb0>"
      ]
     },
     "execution_count": 12,
     "metadata": {},
     "output_type": "execute_result"
    }
   ],
   "source": [
    "import wandb\n",
    "group=f\"offline_ensemble_bn_{num_ensembles}mdls_inst-nrm_loco\"\n",
    "name=group + f\"_{LEAVE_OUT}\"\n",
    "wandb.init(project=\"tta\", entity=\"mahdigilany\", name=name, group=group)\n"
   ]
  },
  {
   "cell_type": "code",
   "execution_count": null,
   "metadata": {},
   "outputs": [
    {
     "name": "stderr",
     "output_type": "stream",
     "text": [
      "wandb: WARNING Source type is set to 'repo' but some required information is missing from the environment. A job will not be created from this run. See https://docs.wandb.ai/guides/launch/create-job\n"
     ]
    },
    {
     "data": {
      "application/vnd.jupyter.widget-view+json": {
       "model_id": "f535e97e759c4a0b8400b6d8ce6106ea",
       "version_major": 2,
       "version_minor": 0
      },
      "text/plain": [
       "VBox(children=(Label(value='0.017 MB of 0.017 MB uploaded\\r'), FloatProgress(value=1.0, max=1.0)))"
      ]
     },
     "metadata": {},
     "output_type": "display_data"
    },
    {
     "data": {
      "text/html": [
       "<style>\n",
       "    table.wandb td:nth-child(1) { padding: 0 10px; text-align: left ; width: auto;} td:nth-child(2) {text-align: left ; width: 100%}\n",
       "    .wandb-row { display: flex; flex-direction: row; flex-wrap: wrap; justify-content: flex-start; width: 100% }\n",
       "    .wandb-col { display: flex; flex-direction: column; flex-basis: 100%; flex: 1; padding: 10px; }\n",
       "    </style>\n",
       "<div class=\"wandb-row\"><div class=\"wandb-col\"><h3>Run history:</h3><br/><table class=\"wandb\"><tr><td>epoch</td><td>▁</td></tr><tr><td>test/all_inv_core_accuracy</td><td>▁</td></tr><tr><td>test/all_inv_core_auroc</td><td>▁</td></tr><tr><td>test/all_inv_patch_accuracy</td><td>▁</td></tr><tr><td>test/all_inv_patch_auroc</td><td>▁</td></tr><tr><td>test/core_accuracy</td><td>▁</td></tr><tr><td>test/core_auroc</td><td>▁</td></tr><tr><td>test/core_brier</td><td>▁</td></tr><tr><td>test/core_ece</td><td>▁</td></tr><tr><td>test/core_sensitivity</td><td>▁</td></tr><tr><td>test/core_specificity</td><td>▁</td></tr><tr><td>test/patch_accuracy</td><td>▁</td></tr><tr><td>test/patch_auroc</td><td>▁</td></tr><tr><td>test/patch_brier</td><td>▁</td></tr><tr><td>test/patch_ece</td><td>▁</td></tr><tr><td>test/patch_sensitivity</td><td>▁</td></tr><tr><td>test/patch_specificity</td><td>▁</td></tr></table><br/></div><div class=\"wandb-col\"><h3>Run summary:</h3><br/><table class=\"wandb\"><tr><td>epoch</td><td>0</td></tr><tr><td>test/all_inv_core_accuracy</td><td>0.46217</td></tr><tr><td>test/all_inv_core_auroc</td><td>0.65169</td></tr><tr><td>test/all_inv_patch_accuracy</td><td>0.48031</td></tr><tr><td>test/all_inv_patch_auroc</td><td>0.57884</td></tr><tr><td>test/core_accuracy</td><td>0.45623</td></tr><tr><td>test/core_auroc</td><td>0.70148</td></tr><tr><td>test/core_brier</td><td>0.36878</td></tr><tr><td>test/core_ece</td><td>0.31019</td></tr><tr><td>test/core_sensitivity</td><td>0.81818</td></tr><tr><td>test/core_specificity</td><td>0.43494</td></tr><tr><td>test/patch_accuracy</td><td>0.47803</td></tr><tr><td>test/patch_auroc</td><td>0.60526</td></tr><tr><td>test/patch_brier</td><td>0.46616</td></tr><tr><td>test/patch_ece</td><td>0.31965</td></tr><tr><td>test/patch_sensitivity</td><td>0.69865</td></tr><tr><td>test/patch_specificity</td><td>0.46502</td></tr></table><br/></div></div>"
      ],
      "text/plain": [
       "<IPython.core.display.HTML object>"
      ]
     },
     "metadata": {},
     "output_type": "display_data"
    },
    {
     "data": {
      "text/html": [
       " View run <strong style=\"color:#cdcd00\">offline_ensemble_bn_10mdls_inst-nrm_loco_JH</strong> at: <a href='https://wandb.ai/mahdigilany/tta/runs/b3o1rrfs' target=\"_blank\">https://wandb.ai/mahdigilany/tta/runs/b3o1rrfs</a><br/>Synced 5 W&B file(s), 0 media file(s), 0 artifact file(s) and 0 other file(s)"
      ],
      "text/plain": [
       "<IPython.core.display.HTML object>"
      ]
     },
     "metadata": {},
     "output_type": "display_data"
    },
    {
     "data": {
      "text/html": [
       "Find logs at: <code>./wandb/run-20231227_131737-b3o1rrfs/logs</code>"
      ],
      "text/plain": [
       "<IPython.core.display.HTML object>"
      ]
     },
     "metadata": {},
     "output_type": "display_data"
    }
   ],
   "source": [
    "metrics_dict.update({\"epoch\": 0})\n",
    "wandb.log(\n",
    "    metrics_dict,\n",
    "    )\n",
    "wandb.finish()"
   ]
  },
  {
   "cell_type": "code",
   "execution_count": null,
   "metadata": {},
   "outputs": [],
   "source": []
  }
 ],
 "metadata": {
  "kernelspec": {
   "display_name": "mttt",
   "language": "python",
   "name": "python3"
  },
  "language_info": {
   "codemirror_mode": {
    "name": "ipython",
    "version": 3
   },
   "file_extension": ".py",
   "mimetype": "text/x-python",
   "name": "python",
   "nbconvert_exporter": "python",
   "pygments_lexer": "ipython3",
   "version": "3.10.4"
  }
 },
 "nbformat": 4,
 "nbformat_minor": 2
}
