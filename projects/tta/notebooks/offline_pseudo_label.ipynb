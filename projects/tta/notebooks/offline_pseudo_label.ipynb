{
 "cells": [
  {
   "cell_type": "code",
   "execution_count": 1,
   "metadata": {},
   "outputs": [
    {
     "name": "stdout",
     "output_type": "stream",
     "text": [
      "/fs01/home/abbasgln/codes/medAI/projects/tta\n"
     ]
    },
    {
     "name": "stderr",
     "output_type": "stream",
     "text": [
      "/h/abbasgln/.conda/envs/mttt/lib/python3.10/site-packages/IPython/core/magics/osm.py:417: UserWarning: using dhist requires you to install the `pickleshare` library.\n",
      "  self.shell.db['dhist'] = compress_dhist(dhist)[-100:]\n"
     ]
    }
   ],
   "source": [
    "%cd .."
   ]
  },
  {
   "cell_type": "code",
   "execution_count": 2,
   "metadata": {},
   "outputs": [],
   "source": [
    "import os\n",
    "from dotenv import load_dotenv\n",
    "# Loading environment variables\n",
    "load_dotenv()\n",
    "\n",
    "import torch\n",
    "import torch.nn as nn\n",
    "import typing as tp\n",
    "import numpy as np\n",
    "import torch.optim as optim\n",
    "from torch.utils.data import DataLoader\n",
    "from dataclasses import dataclass, field\n",
    "import logging\n",
    "import wandb\n",
    "\n",
    "import medAI\n",
    "from medAI.utils.setup import BasicExperiment, BasicExperimentConfig\n",
    "\n",
    "from utils.metrics import MetricCalculator\n",
    "\n",
    "from timm.optim.optim_factory import create_optimizer\n",
    "\n",
    "from einops import rearrange, repeat\n",
    "from tqdm.auto import tqdm\n",
    "import matplotlib.pyplot as plt\n",
    "import timm\n",
    "\n",
    "from copy import copy, deepcopy\n",
    "import pandas as pd\n",
    "\n",
    "from datasets.datasets import ExactNCT2013RFImagePatches\n",
    "from medAI.datasets.nct2013 import (\n",
    "    KFoldCohortSelectionOptions,\n",
    "    LeaveOneCenterOutCohortSelectionOptions, \n",
    "    PatchOptions\n",
    ")\n"
   ]
  },
  {
   "cell_type": "code",
   "execution_count": 3,
   "metadata": {},
   "outputs": [],
   "source": [
    "LEAVE_OUT='JH'"
   ]
  },
  {
   "cell_type": "markdown",
   "metadata": {},
   "source": [
    "## Data MEMO"
   ]
  },
  {
   "cell_type": "code",
   "execution_count": 4,
   "metadata": {},
   "outputs": [
    {
     "name": "stderr",
     "output_type": "stream",
     "text": [
      "Computing positions: 100%|██████████| 1215/1215 [00:15<00:00, 80.95it/s] \n",
      "Computing positions: 100%|██████████| 616/616 [00:08<00:00, 74.62it/s]\n"
     ]
    }
   ],
   "source": [
    "###### No support dataset ######\n",
    "\n",
    "from memo_experiment import MEMOConfig\n",
    "config = MEMOConfig(cohort_selection_config=LeaveOneCenterOutCohortSelectionOptions(leave_out=f\"{LEAVE_OUT}\"))\n",
    "\n",
    "from baseline_experiment import BaselineConfig\n",
    "from torchvision.transforms import v2 as T\n",
    "from torchvision.tv_tensors import Image as TVImage\n",
    "\n",
    "class Transform:\n",
    "    def __init__(selfT, augment=False):\n",
    "        selfT.augment = augment\n",
    "        selfT.size = (256, 256)\n",
    "        # Augmentation\n",
    "        selfT.transform = T.Compose([\n",
    "            T.RandomAffine(degrees=0, translate=(0.2, 0.2)),\n",
    "            T.RandomErasing(p=0.5, scale=(0.02, 0.1), ratio=(0.3, 3.3), value=0.5),\n",
    "            T.RandomHorizontalFlip(p=0.5),\n",
    "            T.RandomVerticalFlip(p=0.5),\n",
    "        ])  \n",
    "    \n",
    "    def __call__(selfT, item):\n",
    "        patch = item.pop(\"patch\")\n",
    "        patch = copy(patch)\n",
    "        patch = (patch - patch.min()) / (patch.max() - patch.min()) \\\n",
    "            if config.instance_norm else patch\n",
    "        patch = TVImage(patch)\n",
    "        patch = T.Resize(selfT.size, antialias=True)(patch).float()\n",
    "        \n",
    "        label = torch.tensor(item[\"grade\"] != \"Benign\").long()\n",
    "        \n",
    "        if selfT.augment:\n",
    "            patch_augs = torch.stack([selfT.transform(patch) for _ in range(5)], dim=0)\n",
    "            return patch_augs, patch, label, item\n",
    "        \n",
    "        return -1, patch, label, item\n",
    "\n",
    "\n",
    "val_ds_memo = ExactNCT2013RFImagePatches(\n",
    "    split=\"val\",\n",
    "    transform=Transform(augment=True),\n",
    "    cohort_selection_options=config.cohort_selection_config,\n",
    "    patch_options=config.patch_config,\n",
    "    debug=config.debug,\n",
    ")\n",
    "        \n",
    "test_ds_memo = ExactNCT2013RFImagePatches(\n",
    "    split=\"test\",\n",
    "    transform=Transform(augment=True),\n",
    "    cohort_selection_options=config.cohort_selection_config,\n",
    "    patch_options=config.patch_config,\n",
    "    debug=config.debug,\n",
    ")\n",
    "\n",
    "\n",
    "val_loader_memo = DataLoader(\n",
    "    val_ds_memo, batch_size=config.batch_size_test, shuffle=True, num_workers=4\n",
    ")\n",
    "test_loader_memo = DataLoader(\n",
    "    test_ds_memo, batch_size=config.batch_size_test, shuffle=config.shffl_test, num_workers=4\n",
    ")\n",
    "\n"
   ]
  },
  {
   "cell_type": "markdown",
   "metadata": {},
   "source": [
    "## Model"
   ]
  },
  {
   "cell_type": "code",
   "execution_count": 10,
   "metadata": {},
   "outputs": [],
   "source": [
    "from baseline_experiment import FeatureExtractorConfig\n",
    "\n",
    "fe_config = FeatureExtractorConfig()\n",
    "\n",
    "# Create the model\n",
    "model: nn.Module = timm.create_model(\n",
    "    fe_config.model_name,\n",
    "    num_classes=fe_config.num_classes,\n",
    "    in_chans=1,\n",
    "    features_only=fe_config.features_only,\n",
    "    norm_layer=lambda channels: nn.GroupNorm(\n",
    "                    num_groups=fe_config.num_groups,\n",
    "                    num_channels=channels\n",
    "                    ))\n",
    "\n",
    "# CHECkPOINT_PATH = os.path.join(os.getcwd(), f'logs/tta/baseline_gn_loco/baseline_gn_loco_{LEAVE_OUT}/', 'best_model.ckpt')\n",
    "# CHECkPOINT_PATH = os.path.join(os.getcwd(), f'logs/tta/memo_gn_loco/memo_gn_{LEAVE_OUT}_loco/checkpoints/', 'best_model.ckpt')\n",
    "CHECkPOINT_PATH = os.path.join(os.getcwd(), f'logs/tta/baseline_gn_crtd3ratio_loco/baseline_gn_crtd3ratio_loco_{LEAVE_OUT}/', 'best_model.ckpt')\n",
    "\n",
    "model.load_state_dict(torch.load(CHECkPOINT_PATH)['model'])\n",
    "model.eval()\n",
    "model.cuda()\n",
    "\n",
    "a = True"
   ]
  },
  {
   "cell_type": "code",
   "execution_count": 11,
   "metadata": {},
   "outputs": [],
   "source": [
    "# # Turn requires_grad off for all layers except the last one\n",
    "# for name, params in model.named_parameters():\n",
    "#     if name == \"fc.weight\" and name == \"fc.bias\":\n",
    "#         params.requires_grad_(False)\n",
    "#         # print(name)\n",
    "#         # print(params)"
   ]
  },
  {
   "cell_type": "markdown",
   "metadata": {},
   "source": [
    "## Tempreture Scaling"
   ]
  },
  {
   "cell_type": "code",
   "execution_count": 12,
   "metadata": {},
   "outputs": [
    {
     "data": {
      "application/vnd.jupyter.widget-view+json": {
       "model_id": "575fad053d1c43588e7e3c7affb03090",
       "version_major": 2,
       "version_minor": 0
      },
      "text/plain": [
       "val:   0%|          | 0/1492 [00:00<?, ?it/s]"
      ]
     },
     "metadata": {},
     "output_type": "display_data"
    }
   ],
   "source": [
    "from medAI.utils import optimizer\n",
    "\n",
    "\n",
    "loader = val_loader_memo\n",
    "\n",
    "metric_calculator = MetricCalculator()\n",
    "desc = \"val\"\n",
    "\n",
    "model.eval()\n",
    "\n",
    "temp = torch.tensor(1.0).cuda().requires_grad_(True)\n",
    "beta = torch.tensor(0.0).cuda().requires_grad_(True)\n",
    "\n",
    "params = [temp, beta]\n",
    "_optimizer = optim.Adam(params, lr=1e-3)\n",
    "\n",
    "for epoch in range(1):\n",
    "    metric_calculator.reset()\n",
    "    for i, batch in enumerate(tqdm(loader, desc=desc)):\n",
    "        images_augs, images, labels, meta_data = batch\n",
    "        images = images.cuda()\n",
    "        labels = labels.cuda()\n",
    "        \n",
    "\n",
    "        # Evaluate\n",
    "        with torch.no_grad():\n",
    "            logits = model(images)\n",
    "        scaled_logits = logits/temp + beta\n",
    "        loss = nn.CrossEntropyLoss()(scaled_logits, labels)\n",
    "        _optimizer.zero_grad()\n",
    "        loss.backward()\n",
    "        _optimizer.step()\n",
    "                        \n",
    "        # Update metrics   \n",
    "        metric_calculator.update(\n",
    "            batch_meta_data = meta_data,\n",
    "            probs = nn.functional.softmax(scaled_logits, dim=-1).detach().cpu(),\n",
    "            labels = labels.detach().cpu(),\n",
    "        )"
   ]
  },
  {
   "cell_type": "code",
   "execution_count": 13,
   "metadata": {},
   "outputs": [
    {
     "data": {
      "text/plain": [
       "(tensor(0.8034, device='cuda:0', requires_grad=True),\n",
       " tensor(-0.5266, device='cuda:0', requires_grad=True))"
      ]
     },
     "execution_count": 13,
     "metadata": {},
     "output_type": "execute_result"
    }
   ],
   "source": [
    "# JH\n",
    "temp = torch.tensor(0.8034).cuda()\n",
    "beta = torch.tensor(-0.5266).cuda()"
   ]
  },
  {
   "cell_type": "markdown",
   "metadata": {},
   "source": [
    "## Run test MEMO"
   ]
  },
  {
   "cell_type": "code",
   "execution_count": 21,
   "metadata": {},
   "outputs": [
    {
     "data": {
      "application/vnd.jupyter.widget-view+json": {
       "model_id": "e1c43c2f49cd46e38c74dea1cf96366d",
       "version_major": 2,
       "version_minor": 0
      },
      "text/plain": [
       "test:   0%|          | 0/726 [00:00<?, ?it/s]"
      ]
     },
     "metadata": {},
     "output_type": "display_data"
    }
   ],
   "source": [
    "loader = test_loader_memo\n",
    "enable_memo = True\n",
    "temp_scale = True\n",
    "\n",
    "from memo_experiment import batched_marginal_entropy\n",
    "metric_calculator = MetricCalculator()\n",
    "desc = \"test\"\n",
    "\n",
    "model.eval()\n",
    "criterion = nn.CrossEntropyLoss()\n",
    "\n",
    "for i, batch in enumerate(tqdm(loader, desc=desc)):\n",
    "    images_augs, images, labels, meta_data = batch\n",
    "    images_augs = images_augs.cuda()\n",
    "    images = images.cuda()\n",
    "    labels = labels.cuda()\n",
    "    \n",
    "    adaptation_model = deepcopy(model)\n",
    "    adaptation_model.eval()\n",
    "    \n",
    "    if enable_memo:\n",
    "        batch_size, aug_size= images_augs.shape[0], images_augs.shape[1]\n",
    "\n",
    "        # Adapt to test\n",
    "        _images_augs = images_augs.reshape(-1, *images_augs.shape[2:]).cuda()\n",
    "        optimizer = optim.SGD(adaptation_model.parameters(), lr=5e-4)\n",
    "        \n",
    "        for j in range(1):\n",
    "            optimizer.zero_grad()\n",
    "            outputs = adaptation_model(_images_augs).reshape(batch_size, aug_size, -1)  \n",
    "            if temp_scale:\n",
    "                outputs = outputs / temp + beta\n",
    "            loss, logits = batched_marginal_entropy(outputs)\n",
    "            loss.mean().backward()\n",
    "            optimizer.step()\n",
    "    \n",
    "    # Evaluate\n",
    "    logits = adaptation_model(images)\n",
    "    if temp_scale:\n",
    "        logits = logits / temp + beta\n",
    "    loss = criterion(logits, labels)\n",
    "                    \n",
    "    # Update metrics   \n",
    "    metric_calculator.update(\n",
    "        batch_meta_data = meta_data,\n",
    "        probs = nn.functional.softmax(logits, dim=-1).detach().cpu(),\n",
    "        labels = labels.detach().cpu(),\n",
    "    )"
   ]
  },
  {
   "cell_type": "code",
   "execution_count": 25,
   "metadata": {},
   "outputs": [
    {
     "data": {
      "text/plain": [
       "{'test/patch_auroc': tensor(0.6440),\n",
       " 'test/patch_accuracy': tensor(0.8820),\n",
       " 'test/all_inv_patch_auroc': tensor(0.6012),\n",
       " 'test/all_inv_patch_accuracy': tensor(0.8630),\n",
       " 'test/core_auroc': tensor(0.7466),\n",
       " 'test/core_accuracy': tensor(0.9276),\n",
       " 'test/all_inv_core_auroc': tensor(0.6879),\n",
       " 'test/all_inv_core_accuracy': tensor(0.9062)}"
      ]
     },
     "execution_count": 25,
     "metadata": {},
     "output_type": "execute_result"
    }
   ],
   "source": [
    "avg_core_probs_first = True\n",
    "metric_calculator.avg_core_probs_first = avg_core_probs_first\n",
    "\n",
    "# Log metrics every epoch\n",
    "metrics = metric_calculator.get_metrics()\n",
    "\n",
    "# Update best score\n",
    "(best_score_updated,best_score) = metric_calculator.update_best_score(metrics, desc)\n",
    "\n",
    "best_score_updated = copy(best_score_updated)\n",
    "best_score = copy(best_score)\n",
    "        \n",
    "# Log metrics\n",
    "metrics_dict = {\n",
    "    f\"{desc}/{key}\": value for key, value in metrics.items()\n",
    "    }\n",
    "\n",
    "metrics_dict"
   ]
  },
  {
   "cell_type": "markdown",
   "metadata": {},
   "source": [
    "## Spliting test for poc of pseudo labeling"
   ]
  },
  {
   "cell_type": "code",
   "execution_count": null,
   "metadata": {},
   "outputs": [],
   "source": [
    "from torch.utils.data import Subset\n",
    "\n",
    "train_indices = range(0, len(test_ds_memo) // 2)\n",
    "test_indices = range(len(test_ds_memo) // 2, len(test_ds_memo))\n",
    "\n",
    "# split test_ds_memo into two\n",
    "test_train = Subset(test_ds_memo, train_indices)\n",
    "test_test = Subset(test_ds_memo, test_indices)\n",
    "\n",
    "\n",
    "test_train_loader = DataLoader(\n",
    "    test_train, batch_size=64, shuffle=True, num_workers=4\n",
    ")\n",
    "test_test_loader = DataLoader(\n",
    "    test_test, batch_size=32, shuffle=False, num_workers=4\n",
    ")\n"
   ]
  },
  {
   "cell_type": "code",
   "execution_count": null,
   "metadata": {},
   "outputs": [],
   "source": [
    "# test_core_info = test_ds_memo.dataset.dataset.core_info\n",
    "# train_test_core_info = test_core_info[test_core_info['id'] <= test_core_info.index[len(test_core_info) // 2]]\n",
    "# labels = train_test_core_info['grade'] != \"Benign\"\n",
    "# benign_ids = list(labels[labels == False].sample(len(labels[labels == True])).index)\n",
    "# cancer_ids = list(labels[labels == True].index)\n",
    "# balanced_ids = benign_ids + cancer_ids\n",
    "# len(balanced_ids)"
   ]
  },
  {
   "cell_type": "code",
   "execution_count": null,
   "metadata": {},
   "outputs": [],
   "source": [
    "loader = test_train_loader\n",
    "epochs = 2\n",
    "\n",
    "metric_calculator = MetricCalculator()\n",
    "desc = \"train\"\n",
    "model.train()\n",
    "optimizer = optim.SGD(model.parameters(), lr=1e-4)\n",
    "\n",
    "for epoch in range(epochs):\n",
    "    for i, batch in enumerate(tqdm(loader, desc=desc)):\n",
    "        images_augs, images, labels, meta_data = batch\n",
    "        \n",
    "        benign_indx = np.where(labels == 0)[0]\n",
    "        cancer_indx = np.where(labels == 1)[0]\n",
    "        benign_indx = np.random.choice(benign_indx, len(cancer_indx))\n",
    "        balanced_indices = np.concatenate([benign_indx, cancer_indx])\n",
    "        # balanced_indices = [id in balanced_ids for id in meta_data['id']]     \n",
    "        \n",
    "        images = images[balanced_indices, ...].cuda()\n",
    "        labels = labels[balanced_indices].cuda()\n",
    "        meta_data['id'] = meta_data['id'][balanced_indices]\n",
    "        meta_data['pct_cancer'] = meta_data['pct_cancer'][balanced_indices]\n",
    "        \n",
    "        # Train\n",
    "        logits = model(images)\n",
    "        loss = nn.CrossEntropyLoss()(logits, labels)\n",
    "        \n",
    "        optimizer.zero_grad()\n",
    "        loss.backward()\n",
    "        optimizer.step()\n",
    "        \n",
    "                        \n",
    "        # Update metrics   \n",
    "        metric_calculator.update(\n",
    "            batch_meta_data = meta_data,\n",
    "            probs = nn.functional.softmax(logits, dim=-1).detach().cpu(),\n",
    "            labels = labels.detach().cpu(),\n",
    "        )"
   ]
  },
  {
   "cell_type": "code",
   "execution_count": 26,
   "metadata": {},
   "outputs": [
    {
     "data": {
      "application/vnd.jupyter.widget-view+json": {
       "model_id": "2150e2edc6134e5f8664a3b1aa2b1397",
       "version_major": 2,
       "version_minor": 0
      },
      "text/plain": [
       "test:   0%|          | 0/726 [00:00<?, ?it/s]"
      ]
     },
     "metadata": {},
     "output_type": "display_data"
    }
   ],
   "source": [
    "# loader = test_test_loader\n",
    "loader = test_loader_memo\n",
    "enable_pseudo_label = True\n",
    "temp_scale = True\n",
    "\n",
    "metric_calculator = MetricCalculator()\n",
    "desc = \"test\"\n",
    "model.eval()\n",
    "\n",
    "for i, batch in enumerate(tqdm(loader, desc=desc)):\n",
    "    images_augs, images, labels, meta_data = batch\n",
    "    # images_augs = images_augs.cuda()\n",
    "    images = images.cuda()\n",
    "    labels = labels.cuda()\n",
    "    \n",
    "    adaptation_model = deepcopy(model)\n",
    "    adaptation_model.eval()\n",
    "    \n",
    "    if enable_pseudo_label:\n",
    "        optimizer = optim.SGD(adaptation_model.parameters(), lr=5e-4)\n",
    "        for j in range(1):\n",
    "            optimizer.zero_grad()\n",
    "            logits = adaptation_model(images)\n",
    "            if temp_scale:\n",
    "                logits = logits / temp + beta\n",
    "            loss = nn.CrossEntropyLoss()(logits, logits.argmax(dim=-1))\n",
    "            loss.backward()\n",
    "            optimizer.step()\n",
    "    \n",
    "    # Train\n",
    "    logits = adaptation_model(images)\n",
    "    if temp_scale:\n",
    "        logits = logits / temp + beta\n",
    "    loss = nn.CrossEntropyLoss()(logits, labels)\n",
    "    \n",
    "                    \n",
    "    # Update metrics   \n",
    "    metric_calculator.update(\n",
    "        batch_meta_data = meta_data,\n",
    "        probs = nn.functional.softmax(logits, dim=-1).detach().cpu(),\n",
    "        labels = labels.detach().cpu(),\n",
    "    )"
   ]
  },
  {
   "cell_type": "code",
   "execution_count": 27,
   "metadata": {},
   "outputs": [
    {
     "data": {
      "text/plain": [
       "{'test/patch_auroc': tensor(0.6474),\n",
       " 'test/patch_accuracy': tensor(0.8810),\n",
       " 'test/all_inv_patch_auroc': tensor(0.6046),\n",
       " 'test/all_inv_patch_accuracy': tensor(0.8620),\n",
       " 'test/core_auroc': tensor(0.7470),\n",
       " 'test/core_accuracy': tensor(0.9192),\n",
       " 'test/all_inv_core_auroc': tensor(0.6925),\n",
       " 'test/all_inv_core_accuracy': tensor(0.8980)}"
      ]
     },
     "execution_count": 27,
     "metadata": {},
     "output_type": "execute_result"
    }
   ],
   "source": [
    "avg_core_probs_first = True\n",
    "metric_calculator.avg_core_probs_first = avg_core_probs_first\n",
    "\n",
    "# Log metrics every epoch\n",
    "metrics = metric_calculator.get_metrics()\n",
    "\n",
    "# Update best score\n",
    "(best_score_updated,best_score) = metric_calculator.update_best_score(metrics, desc)\n",
    "\n",
    "best_score_updated = copy(best_score_updated)\n",
    "best_score = copy(best_score)\n",
    "        \n",
    "# Log metrics\n",
    "metrics_dict = {\n",
    "    f\"{desc}/{key}\": value for key, value in metrics.items()\n",
    "    }\n",
    "\n",
    "metrics_dict"
   ]
  },
  {
   "cell_type": "code",
   "execution_count": 13,
   "metadata": {},
   "outputs": [],
   "source": [
    "# core probs and labels\n",
    "ids = metric_calculator.remove_low_inv_ids(metric_calculator.core_id_invs)\n",
    "# ids = list(metric_calculator.core_id_probs.keys())\n",
    "probs = torch.stack(\n",
    "    [torch.stack(probs_list).argmax(dim=1).mean(dim=0, dtype=torch.float32)\n",
    "    for id, probs_list in metric_calculator.core_id_probs.items() if id in ids])\n",
    "probs = torch.cat([(1 - probs).unsqueeze(1), probs.unsqueeze(1)], dim=1)\n",
    "\n",
    "probs2 = torch.stack(\n",
    "    [torch.stack(probs_list).mean(dim=0) for id, probs_list in metric_calculator.core_id_probs.items() if id in ids])  \n",
    "\n",
    "labels = torch.stack(\n",
    "    [labels_list[0] for id, labels_list in metric_calculator.core_id_labels.items() if id in ids])\n"
   ]
  },
  {
   "cell_type": "code",
   "execution_count": 15,
   "metadata": {},
   "outputs": [
    {
     "data": {
      "text/plain": [
       "{'core_auroc': tensor(0.7463), 'core_accuracy': tensor(0.9175)}"
      ]
     },
     "execution_count": 15,
     "metadata": {},
     "output_type": "execute_result"
    }
   ],
   "source": [
    "metric_calculator._get_metrics(\n",
    "            probs2, \n",
    "            labels, \n",
    "            prefix=\"all_inv_core_\" if ids is None else \"core_\"\n",
    "            )"
   ]
  },
  {
   "cell_type": "markdown",
   "metadata": {},
   "source": [
    "## WabdB Log"
   ]
  },
  {
   "cell_type": "code",
   "execution_count": null,
   "metadata": {},
   "outputs": [
    {
     "name": "stderr",
     "output_type": "stream",
     "text": [
      "Failed to detect the name of this notebook, you can set it manually with the WANDB_NOTEBOOK_NAME environment variable to enable code saving.\n"
     ]
    },
    {
     "name": "stderr",
     "output_type": "stream",
     "text": [
      "\u001b[34m\u001b[1mwandb\u001b[0m: Currently logged in as: \u001b[33mmahdigilany\u001b[0m. Use \u001b[1m`wandb login --relogin`\u001b[0m to force relogin\n"
     ]
    },
    {
     "data": {
      "text/html": [
       "wandb version 0.16.3 is available!  To upgrade, please run:\n",
       " $ pip install wandb --upgrade"
      ],
      "text/plain": [
       "<IPython.core.display.HTML object>"
      ]
     },
     "metadata": {},
     "output_type": "display_data"
    },
    {
     "data": {
      "text/html": [
       "Tracking run with wandb version 0.16.2"
      ],
      "text/plain": [
       "<IPython.core.display.HTML object>"
      ]
     },
     "metadata": {},
     "output_type": "display_data"
    },
    {
     "data": {
      "text/html": [
       "Run data is saved locally in <code>/fs01/home/abbasgln/codes/medAI/projects/tta/wandb/run-20240209_132451-oqvlub64</code>"
      ],
      "text/plain": [
       "<IPython.core.display.HTML object>"
      ]
     },
     "metadata": {},
     "output_type": "display_data"
    },
    {
     "data": {
      "text/html": [
       "Syncing run <strong><a href='https://wandb.ai/mahdigilany/tta/runs/oqvlub64' target=\"_blank\">offline_pslabel_gn_3ratio_loco_JH</a></strong> to <a href='https://wandb.ai/mahdigilany/tta' target=\"_blank\">Weights & Biases</a> (<a href='https://wandb.me/run' target=\"_blank\">docs</a>)<br/>"
      ],
      "text/plain": [
       "<IPython.core.display.HTML object>"
      ]
     },
     "metadata": {},
     "output_type": "display_data"
    },
    {
     "data": {
      "text/html": [
       " View project at <a href='https://wandb.ai/mahdigilany/tta' target=\"_blank\">https://wandb.ai/mahdigilany/tta</a>"
      ],
      "text/plain": [
       "<IPython.core.display.HTML object>"
      ]
     },
     "metadata": {},
     "output_type": "display_data"
    },
    {
     "data": {
      "text/html": [
       " View run at <a href='https://wandb.ai/mahdigilany/tta/runs/oqvlub64' target=\"_blank\">https://wandb.ai/mahdigilany/tta/runs/oqvlub64</a>"
      ],
      "text/plain": [
       "<IPython.core.display.HTML object>"
      ]
     },
     "metadata": {},
     "output_type": "display_data"
    },
    {
     "data": {
      "text/html": [
       "<button onClick=\"this.nextSibling.style.display='block';this.style.display='none';\">Display W&B run</button><iframe src='https://wandb.ai/mahdigilany/tta/runs/oqvlub64?jupyter=true' style='border:none;width:100%;height:420px;display:none;'></iframe>"
      ],
      "text/plain": [
       "<wandb.sdk.wandb_run.Run at 0x7f57cc859990>"
      ]
     },
     "execution_count": 33,
     "metadata": {},
     "output_type": "execute_result"
    }
   ],
   "source": [
    "import wandb\n",
    "group=f\"offline_pslabel_gn_3ratio_loco\"\n",
    "name= group + f\"_{LEAVE_OUT}\"\n",
    "wandb.init(project=\"tta\", entity=\"mahdigilany\", name=name, group=group)\n"
   ]
  },
  {
   "cell_type": "code",
   "execution_count": null,
   "metadata": {},
   "outputs": [
    {
     "name": "stderr",
     "output_type": "stream",
     "text": [
      "wandb: WARNING Source type is set to 'repo' but some required information is missing from the environment. A job will not be created from this run. See https://docs.wandb.ai/guides/launch/create-job\n"
     ]
    },
    {
     "data": {
      "application/vnd.jupyter.widget-view+json": {
       "model_id": "9af9f9f29e244c4bba678683393f7bb7",
       "version_major": 2,
       "version_minor": 0
      },
      "text/plain": [
       "VBox(children=(Label(value='0.017 MB of 0.017 MB uploaded\\r'), FloatProgress(value=1.0, max=1.0)))"
      ]
     },
     "metadata": {},
     "output_type": "display_data"
    },
    {
     "data": {
      "text/html": [
       "<style>\n",
       "    table.wandb td:nth-child(1) { padding: 0 10px; text-align: left ; width: auto;} td:nth-child(2) {text-align: left ; width: 100%}\n",
       "    .wandb-row { display: flex; flex-direction: row; flex-wrap: wrap; justify-content: flex-start; width: 100% }\n",
       "    .wandb-col { display: flex; flex-direction: column; flex-basis: 100%; flex: 1; padding: 10px; }\n",
       "    </style>\n",
       "<div class=\"wandb-row\"><div class=\"wandb-col\"><h3>Run history:</h3><br/><table class=\"wandb\"><tr><td>epoch</td><td>▁</td></tr><tr><td>test/all_inv_core_accuracy</td><td>▁</td></tr><tr><td>test/all_inv_core_auroc</td><td>▁</td></tr><tr><td>test/all_inv_patch_accuracy</td><td>▁</td></tr><tr><td>test/all_inv_patch_auroc</td><td>▁</td></tr><tr><td>test/core_accuracy</td><td>▁</td></tr><tr><td>test/core_auroc</td><td>▁</td></tr><tr><td>test/patch_accuracy</td><td>▁</td></tr><tr><td>test/patch_auroc</td><td>▁</td></tr></table><br/></div><div class=\"wandb-col\"><h3>Run summary:</h3><br/><table class=\"wandb\"><tr><td>epoch</td><td>0</td></tr><tr><td>test/all_inv_core_accuracy</td><td>0.90625</td></tr><tr><td>test/all_inv_core_auroc</td><td>0.75075</td></tr><tr><td>test/all_inv_patch_accuracy</td><td>0.86461</td></tr><tr><td>test/all_inv_patch_auroc</td><td>0.63496</td></tr><tr><td>test/core_accuracy</td><td>0.92761</td></tr><tr><td>test/core_auroc</td><td>0.79331</td></tr><tr><td>test/patch_accuracy</td><td>0.88328</td></tr><tr><td>test/patch_auroc</td><td>0.67782</td></tr></table><br/></div></div>"
      ],
      "text/plain": [
       "<IPython.core.display.HTML object>"
      ]
     },
     "metadata": {},
     "output_type": "display_data"
    },
    {
     "data": {
      "text/html": [
       " View run <strong style=\"color:#cdcd00\">offline_pslabel_gn_3ratio_loco_JH</strong> at: <a href='https://wandb.ai/mahdigilany/tta/runs/oqvlub64' target=\"_blank\">https://wandb.ai/mahdigilany/tta/runs/oqvlub64</a><br/>Synced 5 W&B file(s), 0 media file(s), 0 artifact file(s) and 0 other file(s)"
      ],
      "text/plain": [
       "<IPython.core.display.HTML object>"
      ]
     },
     "metadata": {},
     "output_type": "display_data"
    },
    {
     "data": {
      "text/html": [
       "Find logs at: <code>./wandb/run-20240209_132451-oqvlub64/logs</code>"
      ],
      "text/plain": [
       "<IPython.core.display.HTML object>"
      ]
     },
     "metadata": {},
     "output_type": "display_data"
    }
   ],
   "source": [
    "metrics_dict.update({\"epoch\": 0})\n",
    "wandb.log(\n",
    "    metrics_dict,\n",
    "    )\n",
    "wandb.finish()"
   ]
  },
  {
   "cell_type": "code",
   "execution_count": null,
   "metadata": {},
   "outputs": [],
   "source": []
  }
 ],
 "metadata": {
  "kernelspec": {
   "display_name": "mttt",
   "language": "python",
   "name": "python3"
  },
  "language_info": {
   "codemirror_mode": {
    "name": "ipython",
    "version": 3
   },
   "file_extension": ".py",
   "mimetype": "text/x-python",
   "name": "python",
   "nbconvert_exporter": "python",
   "pygments_lexer": "ipython3",
   "version": "3.10.4"
  }
 },
 "nbformat": 4,
 "nbformat_minor": 2
}
