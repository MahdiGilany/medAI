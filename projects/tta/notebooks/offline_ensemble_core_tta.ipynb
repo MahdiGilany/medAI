{
 "cells": [
  {
   "cell_type": "code",
   "execution_count": 1,
   "metadata": {},
   "outputs": [
    {
     "name": "stdout",
     "output_type": "stream",
     "text": [
      "/fs01/home/abbasgln/codes/medAI/projects/tta\n"
     ]
    }
   ],
   "source": [
    "%cd .."
   ]
  },
  {
   "cell_type": "code",
   "execution_count": 2,
   "metadata": {},
   "outputs": [],
   "source": [
    "import os\n",
    "from dotenv import load_dotenv\n",
    "# Loading environment variables\n",
    "load_dotenv()\n",
    "\n",
    "import torch\n",
    "import torch.nn as nn\n",
    "import torch.nn.functional as F\n",
    "import typing as tp\n",
    "import numpy as np\n",
    "import torch.optim as optim\n",
    "from torch.utils.data import DataLoader\n",
    "from dataclasses import dataclass, field\n",
    "import logging\n",
    "import wandb\n",
    "\n",
    "import medAI\n",
    "from medAI.utils.setup import BasicExperiment, BasicExperimentConfig\n",
    "\n",
    "from utils.metrics import MetricCalculator\n",
    "\n",
    "from timm.optim.optim_factory import create_optimizer\n",
    "\n",
    "from einops import rearrange, repeat\n",
    "from tqdm.auto import tqdm\n",
    "import matplotlib.pyplot as plt\n",
    "import timm\n",
    "\n",
    "from copy import copy, deepcopy\n",
    "import pandas as pd\n",
    "\n",
    "from datasets.datasets import ExactNCT2013RFImagePatches, ExactNCT2013RFCores\n",
    "from medAI.datasets.nct2013 import (\n",
    "    KFoldCohortSelectionOptions,\n",
    "    LeaveOneCenterOutCohortSelectionOptions, \n",
    "    PatchOptions\n",
    ")\n",
    "import torchmetrics\n",
    "\n"
   ]
  },
  {
   "cell_type": "code",
   "execution_count": 3,
   "metadata": {},
   "outputs": [],
   "source": [
    "LEAVE_OUT='UVA'"
   ]
  },
  {
   "cell_type": "markdown",
   "metadata": {},
   "source": [
    "## Data "
   ]
  },
  {
   "cell_type": "code",
   "execution_count": 4,
   "metadata": {},
   "outputs": [
    {
     "name": "stderr",
     "output_type": "stream",
     "text": [
      "Computing positions: 100%|██████████| 1902/1902 [00:44<00:00, 42.69it/s]\n"
     ]
    }
   ],
   "source": [
    "###### No support dataset ######\n",
    "\n",
    "from core_finetune_experiment import CoreFinetuneConfig\n",
    "config = CoreFinetuneConfig(cohort_selection_config=LeaveOneCenterOutCohortSelectionOptions(leave_out=f\"{LEAVE_OUT}\"))\n",
    "\n",
    "from torchvision.transforms import v2 as T\n",
    "\n",
    "class Transform:\n",
    "    def __init__(selfT, augment=False):\n",
    "        selfT.augment = augment\n",
    "        selfT.size = (256, 256)\n",
    "        # Augmentation\n",
    "        selfT.transform = T.Compose([\n",
    "            T.RandomAffine(degrees=0, translate=(0.2, 0.2)),\n",
    "            T.RandomErasing(p=0.5, scale=(0.02, 0.1), ratio=(0.3, 3.3), value=0.5),\n",
    "            T.RandomHorizontalFlip(p=0.5),\n",
    "            T.RandomVerticalFlip(p=0.5),\n",
    "        ])  \n",
    "    \n",
    "    def __call__(selfT, item):\n",
    "        patches = item.pop(\"patches\")\n",
    "        patches = copy(patches)\n",
    "        patches = (patches - np.min(patches, axis=(-2,-1), keepdims=True)) / (np.min(patches, axis=(-2,-1), keepdims=True) - np.min(patches, axis=(-2,-1), keepdims=True)) \\\n",
    "            if config.instance_norm else patches\n",
    "        patches = torch.tensor(patches).float()\n",
    "        patches = T.Resize(selfT.size, antialias=True)(patches).float()\n",
    "        \n",
    "        label = torch.tensor(item[\"grade\"] != \"Benign\").long()\n",
    "        \n",
    "        if selfT.augment:\n",
    "            patches_augs = torch.stack([selfT.transform(patches) for _ in range(2)], dim=0)\n",
    "            return patches_augs, patches, label, item\n",
    "        \n",
    "        return -1, patches, label, item\n",
    "\n",
    "\n",
    "# val_ds = ExactNCT2013RFCores(\n",
    "#     split=\"val\",\n",
    "#     transform=Transform(augment=False),\n",
    "#     cohort_selection_options=config.cohort_selection_config,\n",
    "#     patch_options=config.patch_config,\n",
    "#     debug=config.debug,\n",
    "# )\n",
    "\n",
    "if isinstance(config.cohort_selection_config, LeaveOneCenterOutCohortSelectionOptions):\n",
    "    if config.cohort_selection_config.leave_out == \"UVA\":\n",
    "        config.cohort_selection_config.benign_to_cancer_ratio = 5.0 \n",
    "test_ds = ExactNCT2013RFCores(\n",
    "    split=\"test\",\n",
    "    transform=Transform(augment=True),\n",
    "    cohort_selection_options=config.cohort_selection_config,\n",
    "    patch_options=config.patch_config,\n",
    "    debug=config.debug,\n",
    ")\n",
    "\n",
    "\n",
    "# val_loader = DataLoader(\n",
    "#     val_ds, batch_size=config.batch_size, shuffle=False, num_workers=0 #, pin_memory=True\n",
    "# )\n",
    "test_loader = DataLoader(\n",
    "    test_ds, batch_size=config.batch_size, shuffle=False, num_workers=0 #, pin_memory=True\n",
    ")\n"
   ]
  },
  {
   "cell_type": "markdown",
   "metadata": {},
   "source": [
    "## Ensemble Model"
   ]
  },
  {
   "cell_type": "code",
   "execution_count": 5,
   "metadata": {},
   "outputs": [],
   "source": [
    "from baseline_experiment import FeatureExtractorConfig\n",
    "\n",
    "fe_config = FeatureExtractorConfig()\n",
    "\n",
    "# Create the model\n",
    "list_models: tp.List[nn.Module] = [timm.create_model(\n",
    "    fe_config.model_name,\n",
    "    num_classes=fe_config.num_classes,\n",
    "    in_chans=1,\n",
    "    features_only=fe_config.features_only,\n",
    "    norm_layer=lambda channels: nn.GroupNorm(\n",
    "                    num_groups=fe_config.num_groups,\n",
    "                    num_channels=channels\n",
    "                    )) for _ in range(5)]\n",
    "\n",
    "# CHECkPOINT_PATH = os.path.join(os.getcwd(), f'logs/tta/ensemble_5mdls_gn_3ratio_loco/ensemble_5mdls_gn_3ratio_loco_{LEAVE_OUT}/', 'best_model.ckpt')\n",
    "CHECkPOINT_PATH = os.path.join(os.getcwd(), f'logs/tta/ensemble_5mdls_gn_avgprob_3ratio_loco/ensemble_5mdls_gn_avgprob_3ratio_loco_{LEAVE_OUT}/', 'best_model.ckpt')\n",
    "\n",
    "state = torch.load(CHECkPOINT_PATH)\n",
    "[model.load_state_dict(state[\"list_models\"][i]) for i, model in enumerate(list_models)]\n",
    "\n",
    "[model.eval() for model in list_models]\n",
    "[model.cuda() for model in list_models]\n",
    "\n",
    "a = True"
   ]
  },
  {
   "cell_type": "code",
   "execution_count": 6,
   "metadata": {},
   "outputs": [],
   "source": [
    "# # Turn requires_grad off for all layers except the last one\n",
    "# for model in list_models:\n",
    "#     for name, params in model.named_parameters():\n",
    "#         if name != \"fc.weight\" and name != \"fc.bias\":\n",
    "#                 params.requires_grad_(False)\n",
    "#                 # print(name)\n",
    "#                 # print(params)\n",
    "        "
   ]
  },
  {
   "cell_type": "markdown",
   "metadata": {},
   "source": [
    "## Temp Scaling"
   ]
  },
  {
   "cell_type": "code",
   "execution_count": 7,
   "metadata": {},
   "outputs": [],
   "source": [
    "temp = 1.0\n",
    "beta = 0.0\n",
    "if LEAVE_OUT == \"JH\":\n",
    "#     temp = 1.6793\n",
    "#     beta = -1.0168\n",
    "    temp = 0.9253\n",
    "    beta = -1.0273\n",
    "elif LEAVE_OUT == \"PCC\":\n",
    "#     temp = 1.5950\n",
    "#     beta = -0.8514\n",
    "    temp = 1.0075\n",
    "    beta = -0.8614\n",
    "elif LEAVE_OUT == \"PMCC\":\n",
    "#     temp = 0.6312\n",
    "#     beta = -1.0017\n",
    "    temp = 0.9020\n",
    "    beta = -1.0609\n",
    "elif LEAVE_OUT == \"UVA\":\n",
    "#     temp = 0.9333\n",
    "#     beta = -0.7474\n",
    "    temp = 1.6528\n",
    "    beta = -0.6192\n",
    "elif LEAVE_OUT == \"CRCEO\":\n",
    "#     temp = 1.2787\n",
    "#     beta = -0.8716\n",
    "    temp = 0.8515\n",
    "    beta = -0.8461\n",
    "    \n",
    "temp = torch.tensor(temp).cuda()\n",
    "beta = torch.tensor(beta).cuda()"
   ]
  },
  {
   "cell_type": "markdown",
   "metadata": {},
   "source": [
    "## Run test MEMO"
   ]
  },
  {
   "cell_type": "markdown",
   "metadata": {},
   "source": [
    "### Separate MEMO"
   ]
  },
  {
   "cell_type": "code",
   "execution_count": null,
   "metadata": {},
   "outputs": [
    {
     "data": {
      "application/vnd.jupyter.widget-view+json": {
       "model_id": "97f138f6172f4838b63eabb3349b4224",
       "version_major": 2,
       "version_minor": 0
      },
      "text/plain": [
       "test:   0%|          | 0/608 [00:00<?, ?it/s]"
      ]
     },
     "metadata": {},
     "output_type": "display_data"
    }
   ],
   "source": [
    "loader = test_loader\n",
    "enable_memo = True\n",
    "certain_threshold = 0.4\n",
    "\n",
    "from memo_experiment import batched_marginal_entropy\n",
    "metric_calculator = MetricCalculator()\n",
    "desc = \"test\"\n",
    "\n",
    "criterion = nn.CrossEntropyLoss()\n",
    "\n",
    "for i, batch in enumerate(tqdm(loader, desc=desc)):\n",
    "    images_augs, images, labels, meta_data = batch\n",
    "    images_augs = images_augs[0].cuda().permute(1, 0, 2, 3, 4)\n",
    "    images = images[0].cuda()\n",
    "    labels = labels.cuda().repeat(images.shape[0])\n",
    "    meta_data['pct_cancer'] = meta_data['pct_cancer'].repeat(images.shape[0])\n",
    "    meta_data['id'] = meta_data['id'].repeat(images.shape[0])\n",
    "    \n",
    "    adaptation_model_list = [deepcopy(model) for model in list_models] \n",
    "    [model.eval() for model in adaptation_model_list]\n",
    "    \n",
    "    if enable_memo:\n",
    "        batch_size, aug_size= images_augs.shape[0], images_augs.shape[1]\n",
    "\n",
    "        params = []\n",
    "        for model in adaptation_model_list:\n",
    "            params.append({'params': model.parameters()})\n",
    "        optimizer = optim.SGD(params, lr=5e-4)\n",
    "        \n",
    "        _images_augs = images_augs.reshape(-1, *images_augs.shape[2:]).cuda()\n",
    "        # Adapt to test\n",
    "        for j in range(1):\n",
    "            optimizer.zero_grad()\n",
    "            # Forward pass\n",
    "            stacked_logits = torch.stack([model(_images_augs).reshape(batch_size, aug_size, -1) for model in adaptation_model_list])\n",
    "            \n",
    "            # Remove uncertain samples from test-time adaptation\n",
    "            certain_idx = F.softmax(stacked_logits, dim=-1).mean(dim=0).mean(dim=1).max(dim=-1)[0] >= certain_threshold\n",
    "            stacked_logits = stacked_logits[:, certain_idx, ...]\n",
    "            \n",
    "            list_losses = []\n",
    "            list_logits = []\n",
    "            for k in range(5):\n",
    "                loss, logits = batched_marginal_entropy(stacked_logits[k,...])\n",
    "                list_losses.append(loss.mean())\n",
    "                list_logits.append(logits)\n",
    "            # Backward pass\n",
    "            sum(list_losses).backward()\n",
    "            optimizer.step()\n",
    "    \n",
    "    # Evaluate\n",
    "    logits = torch.stack([model(images) for model in adaptation_model_list])\n",
    "    losses = [nn.CrossEntropyLoss()(\n",
    "        logits[i, ...],\n",
    "        labels\n",
    "        ) for i in range(5)\n",
    "    ]\n",
    "                    \n",
    "    # Update metrics   \n",
    "    metric_calculator.update(\n",
    "        batch_meta_data = meta_data,\n",
    "        probs = F.softmax(logits, dim=-1).mean(dim=0).detach().cpu(), # Take mean over ensembles\n",
    "        labels = labels.detach().cpu(),\n",
    "    )\n",
    "    "
   ]
  },
  {
   "cell_type": "markdown",
   "metadata": {},
   "source": [
    "### Combined MEMO"
   ]
  },
  {
   "cell_type": "code",
   "execution_count": null,
   "metadata": {},
   "outputs": [
    {
     "data": {
      "application/vnd.jupyter.widget-view+json": {
       "model_id": "88b068e607074601b8ed8fd7e9d4d34b",
       "version_major": 2,
       "version_minor": 0
      },
      "text/plain": [
       "test:   0%|          | 0/726 [00:00<?, ?it/s]"
      ]
     },
     "metadata": {},
     "output_type": "display_data"
    }
   ],
   "source": [
    "loader = test_loader_memo\n",
    "enable_memo = True\n",
    "\n",
    "from memo_experiment import batched_marginal_entropy\n",
    "metric_calculator = MetricCalculator()\n",
    "desc = \"test\"\n",
    "\n",
    "criterion = nn.CrossEntropyLoss()\n",
    "\n",
    "for i, batch in enumerate(tqdm(loader, desc=desc)):\n",
    "    images_augs, images, labels, meta_data = batch\n",
    "    images_augs = images_augs.cuda()\n",
    "    images = images.cuda()\n",
    "    labels = labels.cuda()\n",
    "    \n",
    "    adaptation_model_list = [deepcopy(model) for model in list_models] \n",
    "    [model.eval() for model in adaptation_model_list]\n",
    "    \n",
    "    if enable_memo:\n",
    "        batch_size, aug_size= images_augs.shape[0], images_augs.shape[1]\n",
    "\n",
    "        params = []\n",
    "        for model in adaptation_model_list:\n",
    "            params.append({'params': model.parameters()})\n",
    "        optimizer = optim.SGD(params, lr=5e-4)\n",
    "        \n",
    "        _images_augs = images_augs.reshape(-1, *images_augs.shape[2:]).cuda()\n",
    "        # Adapt to test\n",
    "        for j in range(1):\n",
    "            optimizer.zero_grad()\n",
    "            # Forward pass\n",
    "            stacked_outputs = torch.stack([model(_images_augs).reshape(batch_size, aug_size, -1) for model in adaptation_model_list])\n",
    "            \n",
    "            # for outputs in len(adaptation_model_list):\n",
    "            #     loss, logits = batched_marginal_entropy(outputs)\n",
    "            #     list_losses.append(loss.mean())\n",
    "            #     list_logits.append(logits)\n",
    "            # # Backward pass\n",
    "            # sum(list_losses).backward()\n",
    "            # optimizer.step()\n",
    "            \n",
    "            loss, logits = batched_marginal_entropy(stacked_outputs.mean(dim=0))\n",
    "            # Backward pass\n",
    "            loss.mean().backward()\n",
    "            optimizer.step()\n",
    "    \n",
    "    # Evaluate\n",
    "    logits = torch.stack([model(images) for model in adaptation_model_list])\n",
    "    losses = [nn.CrossEntropyLoss()(\n",
    "        logits[i, ...],\n",
    "        labels\n",
    "        ) for i in range(5)\n",
    "    ]\n",
    "                    \n",
    "    # Update metrics   \n",
    "    metric_calculator.update(\n",
    "        batch_meta_data = meta_data,\n",
    "        probs = F.softmax(logits, dim=-1).mean(dim=0).detach().cpu(), # Take mean over ensembles\n",
    "        labels = labels.detach().cpu(),\n",
    "    )"
   ]
  },
  {
   "cell_type": "markdown",
   "metadata": {},
   "source": [
    "### Get metrrics"
   ]
  },
  {
   "cell_type": "code",
   "execution_count": null,
   "metadata": {},
   "outputs": [
    {
     "data": {
      "text/plain": [
       "{'test/patch_auroc': tensor(0.6415),\n",
       " 'test/patch_accuracy': tensor(0.8924),\n",
       " 'test/all_inv_patch_auroc': tensor(0.5996),\n",
       " 'test/all_inv_patch_accuracy': tensor(0.8724),\n",
       " 'test/core_auroc': tensor(0.7299),\n",
       " 'test/core_accuracy': tensor(0.9276),\n",
       " 'test/all_inv_core_auroc': tensor(0.6740),\n",
       " 'test/all_inv_core_accuracy': tensor(0.9062)}"
      ]
     },
     "execution_count": 21,
     "metadata": {},
     "output_type": "execute_result"
    }
   ],
   "source": [
    "avg_core_probs_first = True\n",
    "metric_calculator.avg_core_probs_first = avg_core_probs_first\n",
    "\n",
    "# Log metrics every epoch\n",
    "metrics = metric_calculator.get_metrics()\n",
    "\n",
    "# Update best score\n",
    "(best_score_updated,best_score) = metric_calculator.update_best_score(metrics, desc)\n",
    "\n",
    "best_score_updated = copy(best_score_updated)\n",
    "best_score = copy(best_score)\n",
    "        \n",
    "# Log metrics\n",
    "metrics_dict = {\n",
    "    f\"{desc}/{key}\": value for key, value in metrics.items()\n",
    "    }\n",
    "\n",
    "metrics_dict"
   ]
  },
  {
   "cell_type": "markdown",
   "metadata": {},
   "source": [
    "## Pseudo labeling"
   ]
  },
  {
   "cell_type": "code",
   "execution_count": 9,
   "metadata": {},
   "outputs": [
    {
     "data": {
      "application/vnd.jupyter.widget-view+json": {
       "model_id": "616e1d2632c7450484e91ee0c51083fb",
       "version_major": 2,
       "version_minor": 0
      },
      "text/plain": [
       "test:   0%|          | 0/1886 [00:00<?, ?it/s]"
      ]
     },
     "metadata": {},
     "output_type": "display_data"
    },
    {
     "ename": "KeyboardInterrupt",
     "evalue": "",
     "output_type": "error",
     "traceback": [
      "\u001b[0;31m---------------------------------------------------------------------------\u001b[0m",
      "\u001b[0;31mKeyboardInterrupt\u001b[0m                         Traceback (most recent call last)",
      "Cell \u001b[0;32mIn[9], line 11\u001b[0m\n\u001b[1;32m      8\u001b[0m metric_calculator \u001b[38;5;241m=\u001b[39m MetricCalculator()\n\u001b[1;32m      9\u001b[0m desc \u001b[38;5;241m=\u001b[39m \u001b[38;5;124m\"\u001b[39m\u001b[38;5;124mtest\u001b[39m\u001b[38;5;124m\"\u001b[39m\n\u001b[0;32m---> 11\u001b[0m \u001b[38;5;28;01mfor\u001b[39;00m i, batch \u001b[38;5;129;01min\u001b[39;00m \u001b[38;5;28menumerate\u001b[39m(tqdm(loader, desc\u001b[38;5;241m=\u001b[39mdesc)):\n\u001b[1;32m     12\u001b[0m     images_augs, images, labels, meta_data \u001b[38;5;241m=\u001b[39m batch\n\u001b[1;32m     13\u001b[0m     \u001b[38;5;66;03m# images_augs = images_augs[0].cuda().permute(1, 0, 2, 3, 4)\u001b[39;00m\n",
      "File \u001b[0;32m~/.conda/envs/mttt/lib/python3.10/site-packages/tqdm/notebook.py:249\u001b[0m, in \u001b[0;36mtqdm_notebook.__iter__\u001b[0;34m(self)\u001b[0m\n\u001b[1;32m    247\u001b[0m \u001b[38;5;28;01mtry\u001b[39;00m:\n\u001b[1;32m    248\u001b[0m     it \u001b[38;5;241m=\u001b[39m \u001b[38;5;28msuper\u001b[39m(tqdm_notebook, \u001b[38;5;28mself\u001b[39m)\u001b[38;5;241m.\u001b[39m\u001b[38;5;21m__iter__\u001b[39m()\n\u001b[0;32m--> 249\u001b[0m     \u001b[38;5;28;01mfor\u001b[39;00m obj \u001b[38;5;129;01min\u001b[39;00m it:\n\u001b[1;32m    250\u001b[0m         \u001b[38;5;66;03m# return super(tqdm...) will not catch exception\u001b[39;00m\n\u001b[1;32m    251\u001b[0m         \u001b[38;5;28;01myield\u001b[39;00m obj\n\u001b[1;32m    252\u001b[0m \u001b[38;5;66;03m# NB: except ... [ as ...] breaks IPython async KeyboardInterrupt\u001b[39;00m\n",
      "File \u001b[0;32m~/.conda/envs/mttt/lib/python3.10/site-packages/tqdm/std.py:1182\u001b[0m, in \u001b[0;36mtqdm.__iter__\u001b[0;34m(self)\u001b[0m\n\u001b[1;32m   1179\u001b[0m time \u001b[38;5;241m=\u001b[39m \u001b[38;5;28mself\u001b[39m\u001b[38;5;241m.\u001b[39m_time\n\u001b[1;32m   1181\u001b[0m \u001b[38;5;28;01mtry\u001b[39;00m:\n\u001b[0;32m-> 1182\u001b[0m     \u001b[38;5;28;01mfor\u001b[39;00m obj \u001b[38;5;129;01min\u001b[39;00m iterable:\n\u001b[1;32m   1183\u001b[0m         \u001b[38;5;28;01myield\u001b[39;00m obj\n\u001b[1;32m   1184\u001b[0m         \u001b[38;5;66;03m# Update and possibly print the progressbar.\u001b[39;00m\n\u001b[1;32m   1185\u001b[0m         \u001b[38;5;66;03m# Note: does not call self.update(1) for speed optimisation.\u001b[39;00m\n",
      "File \u001b[0;32m~/.conda/envs/mttt/lib/python3.10/site-packages/torch/utils/data/dataloader.py:630\u001b[0m, in \u001b[0;36m_BaseDataLoaderIter.__next__\u001b[0;34m(self)\u001b[0m\n\u001b[1;32m    627\u001b[0m \u001b[38;5;28;01mif\u001b[39;00m \u001b[38;5;28mself\u001b[39m\u001b[38;5;241m.\u001b[39m_sampler_iter \u001b[38;5;129;01mis\u001b[39;00m \u001b[38;5;28;01mNone\u001b[39;00m:\n\u001b[1;32m    628\u001b[0m     \u001b[38;5;66;03m# TODO(https://github.com/pytorch/pytorch/issues/76750)\u001b[39;00m\n\u001b[1;32m    629\u001b[0m     \u001b[38;5;28mself\u001b[39m\u001b[38;5;241m.\u001b[39m_reset()  \u001b[38;5;66;03m# type: ignore[call-arg]\u001b[39;00m\n\u001b[0;32m--> 630\u001b[0m data \u001b[38;5;241m=\u001b[39m \u001b[38;5;28;43mself\u001b[39;49m\u001b[38;5;241;43m.\u001b[39;49m\u001b[43m_next_data\u001b[49m\u001b[43m(\u001b[49m\u001b[43m)\u001b[49m\n\u001b[1;32m    631\u001b[0m \u001b[38;5;28mself\u001b[39m\u001b[38;5;241m.\u001b[39m_num_yielded \u001b[38;5;241m+\u001b[39m\u001b[38;5;241m=\u001b[39m \u001b[38;5;241m1\u001b[39m\n\u001b[1;32m    632\u001b[0m \u001b[38;5;28;01mif\u001b[39;00m \u001b[38;5;28mself\u001b[39m\u001b[38;5;241m.\u001b[39m_dataset_kind \u001b[38;5;241m==\u001b[39m _DatasetKind\u001b[38;5;241m.\u001b[39mIterable \u001b[38;5;129;01mand\u001b[39;00m \\\n\u001b[1;32m    633\u001b[0m         \u001b[38;5;28mself\u001b[39m\u001b[38;5;241m.\u001b[39m_IterableDataset_len_called \u001b[38;5;129;01mis\u001b[39;00m \u001b[38;5;129;01mnot\u001b[39;00m \u001b[38;5;28;01mNone\u001b[39;00m \u001b[38;5;129;01mand\u001b[39;00m \\\n\u001b[1;32m    634\u001b[0m         \u001b[38;5;28mself\u001b[39m\u001b[38;5;241m.\u001b[39m_num_yielded \u001b[38;5;241m>\u001b[39m \u001b[38;5;28mself\u001b[39m\u001b[38;5;241m.\u001b[39m_IterableDataset_len_called:\n",
      "File \u001b[0;32m~/.conda/envs/mttt/lib/python3.10/site-packages/torch/utils/data/dataloader.py:674\u001b[0m, in \u001b[0;36m_SingleProcessDataLoaderIter._next_data\u001b[0;34m(self)\u001b[0m\n\u001b[1;32m    672\u001b[0m \u001b[38;5;28;01mdef\u001b[39;00m \u001b[38;5;21m_next_data\u001b[39m(\u001b[38;5;28mself\u001b[39m):\n\u001b[1;32m    673\u001b[0m     index \u001b[38;5;241m=\u001b[39m \u001b[38;5;28mself\u001b[39m\u001b[38;5;241m.\u001b[39m_next_index()  \u001b[38;5;66;03m# may raise StopIteration\u001b[39;00m\n\u001b[0;32m--> 674\u001b[0m     data \u001b[38;5;241m=\u001b[39m \u001b[38;5;28;43mself\u001b[39;49m\u001b[38;5;241;43m.\u001b[39;49m\u001b[43m_dataset_fetcher\u001b[49m\u001b[38;5;241;43m.\u001b[39;49m\u001b[43mfetch\u001b[49m\u001b[43m(\u001b[49m\u001b[43mindex\u001b[49m\u001b[43m)\u001b[49m  \u001b[38;5;66;03m# may raise StopIteration\u001b[39;00m\n\u001b[1;32m    675\u001b[0m     \u001b[38;5;28;01mif\u001b[39;00m \u001b[38;5;28mself\u001b[39m\u001b[38;5;241m.\u001b[39m_pin_memory:\n\u001b[1;32m    676\u001b[0m         data \u001b[38;5;241m=\u001b[39m _utils\u001b[38;5;241m.\u001b[39mpin_memory\u001b[38;5;241m.\u001b[39mpin_memory(data, \u001b[38;5;28mself\u001b[39m\u001b[38;5;241m.\u001b[39m_pin_memory_device)\n",
      "File \u001b[0;32m~/.conda/envs/mttt/lib/python3.10/site-packages/torch/utils/data/_utils/fetch.py:51\u001b[0m, in \u001b[0;36m_MapDatasetFetcher.fetch\u001b[0;34m(self, possibly_batched_index)\u001b[0m\n\u001b[1;32m     49\u001b[0m         data \u001b[38;5;241m=\u001b[39m \u001b[38;5;28mself\u001b[39m\u001b[38;5;241m.\u001b[39mdataset\u001b[38;5;241m.\u001b[39m__getitems__(possibly_batched_index)\n\u001b[1;32m     50\u001b[0m     \u001b[38;5;28;01melse\u001b[39;00m:\n\u001b[0;32m---> 51\u001b[0m         data \u001b[38;5;241m=\u001b[39m [\u001b[38;5;28mself\u001b[39m\u001b[38;5;241m.\u001b[39mdataset[idx] \u001b[38;5;28;01mfor\u001b[39;00m idx \u001b[38;5;129;01min\u001b[39;00m possibly_batched_index]\n\u001b[1;32m     52\u001b[0m \u001b[38;5;28;01melse\u001b[39;00m:\n\u001b[1;32m     53\u001b[0m     data \u001b[38;5;241m=\u001b[39m \u001b[38;5;28mself\u001b[39m\u001b[38;5;241m.\u001b[39mdataset[possibly_batched_index]\n",
      "File \u001b[0;32m~/.conda/envs/mttt/lib/python3.10/site-packages/torch/utils/data/_utils/fetch.py:51\u001b[0m, in \u001b[0;36m<listcomp>\u001b[0;34m(.0)\u001b[0m\n\u001b[1;32m     49\u001b[0m         data \u001b[38;5;241m=\u001b[39m \u001b[38;5;28mself\u001b[39m\u001b[38;5;241m.\u001b[39mdataset\u001b[38;5;241m.\u001b[39m__getitems__(possibly_batched_index)\n\u001b[1;32m     50\u001b[0m     \u001b[38;5;28;01melse\u001b[39;00m:\n\u001b[0;32m---> 51\u001b[0m         data \u001b[38;5;241m=\u001b[39m [\u001b[38;5;28;43mself\u001b[39;49m\u001b[38;5;241;43m.\u001b[39;49m\u001b[43mdataset\u001b[49m\u001b[43m[\u001b[49m\u001b[43midx\u001b[49m\u001b[43m]\u001b[49m \u001b[38;5;28;01mfor\u001b[39;00m idx \u001b[38;5;129;01min\u001b[39;00m possibly_batched_index]\n\u001b[1;32m     52\u001b[0m \u001b[38;5;28;01melse\u001b[39;00m:\n\u001b[1;32m     53\u001b[0m     data \u001b[38;5;241m=\u001b[39m \u001b[38;5;28mself\u001b[39m\u001b[38;5;241m.\u001b[39mdataset[possibly_batched_index]\n",
      "File \u001b[0;32m/fs01/home/abbasgln/codes/medAI/projects/tta/datasets/datasets.py:545\u001b[0m, in \u001b[0;36mExactNCT2013RFCores.__getitem__\u001b[0;34m(self, index)\u001b[0m\n\u001b[1;32m    542\u001b[0m item[\u001b[38;5;124m\"\u001b[39m\u001b[38;5;124mpositions\u001b[39m\u001b[38;5;124m\"\u001b[39m] \u001b[38;5;241m=\u001b[39m np\u001b[38;5;241m.\u001b[39mstack(positions)\n\u001b[1;32m    544\u001b[0m \u001b[38;5;28;01mif\u001b[39;00m \u001b[38;5;28mself\u001b[39m\u001b[38;5;241m.\u001b[39mtransform \u001b[38;5;129;01mis\u001b[39;00m \u001b[38;5;129;01mnot\u001b[39;00m \u001b[38;5;28;01mNone\u001b[39;00m:\n\u001b[0;32m--> 545\u001b[0m     item \u001b[38;5;241m=\u001b[39m \u001b[38;5;28;43mself\u001b[39;49m\u001b[38;5;241;43m.\u001b[39;49m\u001b[43mtransform\u001b[49m\u001b[43m(\u001b[49m\u001b[43mitem\u001b[49m\u001b[43m)\u001b[49m\n\u001b[1;32m    547\u001b[0m \u001b[38;5;28;01mreturn\u001b[39;00m item\n",
      "Cell \u001b[0;32mIn[4], line 31\u001b[0m, in \u001b[0;36mTransform.__call__\u001b[0;34m(selfT, item)\u001b[0m\n\u001b[1;32m     28\u001b[0m label \u001b[38;5;241m=\u001b[39m torch\u001b[38;5;241m.\u001b[39mtensor(item[\u001b[38;5;124m\"\u001b[39m\u001b[38;5;124mgrade\u001b[39m\u001b[38;5;124m\"\u001b[39m] \u001b[38;5;241m!=\u001b[39m \u001b[38;5;124m\"\u001b[39m\u001b[38;5;124mBenign\u001b[39m\u001b[38;5;124m\"\u001b[39m)\u001b[38;5;241m.\u001b[39mlong()\n\u001b[1;32m     30\u001b[0m \u001b[38;5;28;01mif\u001b[39;00m selfT\u001b[38;5;241m.\u001b[39maugment:\n\u001b[0;32m---> 31\u001b[0m     patches_augs \u001b[38;5;241m=\u001b[39m \u001b[43mtorch\u001b[49m\u001b[38;5;241;43m.\u001b[39;49m\u001b[43mstack\u001b[49m\u001b[43m(\u001b[49m\u001b[43m[\u001b[49m\u001b[43mselfT\u001b[49m\u001b[38;5;241;43m.\u001b[39;49m\u001b[43mtransform\u001b[49m\u001b[43m(\u001b[49m\u001b[43mpatches\u001b[49m\u001b[43m)\u001b[49m\u001b[43m \u001b[49m\u001b[38;5;28;43;01mfor\u001b[39;49;00m\u001b[43m \u001b[49m\u001b[43m_\u001b[49m\u001b[43m \u001b[49m\u001b[38;5;129;43;01min\u001b[39;49;00m\u001b[43m \u001b[49m\u001b[38;5;28;43mrange\u001b[39;49m\u001b[43m(\u001b[49m\u001b[38;5;241;43m2\u001b[39;49m\u001b[43m)\u001b[49m\u001b[43m]\u001b[49m\u001b[43m,\u001b[49m\u001b[43m \u001b[49m\u001b[43mdim\u001b[49m\u001b[38;5;241;43m=\u001b[39;49m\u001b[38;5;241;43m0\u001b[39;49m\u001b[43m)\u001b[49m\n\u001b[1;32m     32\u001b[0m     \u001b[38;5;28;01mreturn\u001b[39;00m patches_augs, patches, label, item\n\u001b[1;32m     34\u001b[0m \u001b[38;5;28;01mreturn\u001b[39;00m \u001b[38;5;241m-\u001b[39m\u001b[38;5;241m1\u001b[39m, patches, label, item\n",
      "\u001b[0;31mKeyboardInterrupt\u001b[0m: "
     ]
    }
   ],
   "source": [
    "loader = test_loader\n",
    "enable_pseudo_label = False\n",
    "temp_scale = False\n",
    "certain_threshold = 0.4\n",
    "# certain_radius = torch.tensor(0.15).cuda()\n",
    "thr = 0.15\n",
    "\n",
    "metric_calculator = MetricCalculator()\n",
    "desc = \"test\"\n",
    "\n",
    "for i, batch in enumerate(tqdm(loader, desc=desc)):\n",
    "    images_augs, images, labels, meta_data = batch\n",
    "    # images_augs = images_augs[0].cuda().permute(1, 0, 2, 3, 4)\n",
    "    images = images[0].cuda()\n",
    "    labels = labels.cuda().repeat(images.shape[0])\n",
    "    meta_data['pct_cancer'] = meta_data['pct_cancer'].repeat(images.shape[0])\n",
    "    meta_data['id'] = meta_data['id'].repeat(images.shape[0])\n",
    "    \n",
    "    adaptation_model_list = [deepcopy(model) for model in list_models] \n",
    "    [model.eval() for model in adaptation_model_list]\n",
    "\n",
    "    \n",
    "    if enable_pseudo_label:\n",
    "        params = []\n",
    "        for model in adaptation_model_list:\n",
    "            params.append({'params': model.parameters()})\n",
    "        optimizer = optim.SGD(params, lr=5e-4)\n",
    "        \n",
    "        # Adapt to test\n",
    "        for j in range(2):\n",
    "            optimizer.zero_grad()\n",
    "            # Forward pass\n",
    "            stacked_logits = torch.stack([model(images) for model in adaptation_model_list])\n",
    "            if temp_scale:\n",
    "                stacked_logits = stacked_logits / temp + beta\n",
    "            \n",
    "            # Remove uncertain samples from test-time adaptation\n",
    "            certain_idx = F.softmax(stacked_logits, dim=-1).mean(dim=0).max(dim=-1)[0] >= certain_threshold\n",
    "            # certain_idx = (F.softmax(stacked_logits, dim=-1).mean(dim=0)[:, 1] - torch.tensor(thr).cuda()).abs() >= certain_radius\n",
    "            stacked_logits = stacked_logits[:, certain_idx, ...]\n",
    "            \n",
    "            list_losses = []\n",
    "            for k, outputs in enumerate(adaptation_model_list):\n",
    "                loss = nn.CrossEntropyLoss()(stacked_logits[k, ...], (F.softmax(stacked_logits, dim=-1).mean(dim=0)[:, 1] >= thr).to(torch.long))\n",
    "                list_losses.append(loss.mean())\n",
    "            # Backward pass\n",
    "            sum(list_losses).backward()\n",
    "            optimizer.step()\n",
    "        \n",
    "    # Evaluate\n",
    "    logits = torch.stack([model(images) for model in adaptation_model_list])\n",
    "    if temp_scale:\n",
    "        logits = logits / temp + beta\n",
    "    losses = [nn.CrossEntropyLoss()(\n",
    "        logits[i, ...],\n",
    "        labels\n",
    "        ) for i in range(5)\n",
    "    ]\n",
    "                    \n",
    "    # Update metrics   \n",
    "    metric_calculator.update(\n",
    "        batch_meta_data = meta_data,\n",
    "        probs = F.softmax(logits, dim=-1).mean(dim=0).detach().cpu(), # Take mean over ensembles\n",
    "        labels = labels.detach().cpu(),\n",
    "        # raw_probs = F.softmax(logits, dim=-1).detach().cpu(),\n",
    "    )"
   ]
  },
  {
   "cell_type": "code",
   "execution_count": null,
   "metadata": {},
   "outputs": [
    {
     "data": {
      "text/plain": [
       "torch.Size([5, 39, 2])"
      ]
     },
     "execution_count": 9,
     "metadata": {},
     "output_type": "execute_result"
    }
   ],
   "source": [
    "F.softmax(logits, dim=-1).detach().cpu().shape"
   ]
  },
  {
   "cell_type": "code",
   "execution_count": null,
   "metadata": {},
   "outputs": [
    {
     "data": {
      "text/plain": [
       "{'test/patch_auroc': tensor(0.7216),\n",
       " 'test/patch_accuracy': tensor(0.4960),\n",
       " 'test/all_inv_patch_auroc': tensor(0.6573),\n",
       " 'test/all_inv_patch_accuracy': tensor(0.5063),\n",
       " 'test/core_auroc': tensor(0.7646),\n",
       " 'test/core_accuracy': tensor(0.4763),\n",
       " 'test/all_inv_core_auroc': tensor(0.6933),\n",
       " 'test/all_inv_core_accuracy': tensor(0.4905)}"
      ]
     },
     "execution_count": 18,
     "metadata": {},
     "output_type": "execute_result"
    }
   ],
   "source": [
    "avg_core_probs_first = True\n",
    "metric_calculator.avg_core_probs_first = avg_core_probs_first\n",
    "\n",
    "# Log metrics every epoch\n",
    "metrics = metric_calculator.get_metrics()\n",
    "\n",
    "# Update best score\n",
    "(best_score_updated,best_score) = metric_calculator.update_best_score(metrics, desc)\n",
    "\n",
    "best_score_updated = copy(best_score_updated)\n",
    "best_score = copy(best_score)\n",
    "        \n",
    "# Log metrics\n",
    "metrics_dict = {\n",
    "    f\"{desc}/{key}\": value for key, value in metrics.items()\n",
    "    }\n",
    "\n",
    "metrics_dict"
   ]
  },
  {
   "cell_type": "code",
   "execution_count": null,
   "metadata": {},
   "outputs": [
    {
     "data": {
      "image/png": "[encoded data removed]",
      "text/plain": [
       "<Figure size 640x480 with 1 Axes>"
      ]
     },
     "metadata": {},
     "output_type": "display_data"
    }
   ],
   "source": [
    "probs, labels = metric_calculator.get_probs_labels(high_inv=True, core_or_patch=\"patch\")\n",
    "\n",
    "num_bin = 20\n",
    "# plt.hist(probs[:, 1][labels==1].numpy(), density=True, bins=num_bin, alpha = 0.5)\n",
    "# plt.hist(probs[:, 1][labels==0].numpy(), density=True, bins=num_bin,alpha = 0.5)\n",
    "plt.hist(probs[:, 1].numpy(), density=True, bins=num_bin,alpha = 0.5)\n",
    "a=True"
   ]
  },
  {
   "cell_type": "code",
   "execution_count": null,
   "metadata": {},
   "outputs": [
    {
     "data": {
      "text/plain": [
       "tensor(0.6365)"
      ]
     },
     "execution_count": 16,
     "metadata": {},
     "output_type": "execute_result"
    }
   ],
   "source": [
    "thr = 0.15\n",
    "0.5*(probs[:,1]>=thr)[labels==1].sum()/sum(labels==1) + 0.5*(probs[:,1]<thr)[labels==0].sum()/sum(labels==0)\n",
    "# probs.argmax(dim=-1).eq(labels).sum()/len(labels)"
   ]
  },
  {
   "cell_type": "markdown",
   "metadata": {},
   "source": [
    "## Acc. vs. uncertainty quantile"
   ]
  },
  {
   "cell_type": "code",
   "execution_count": null,
   "metadata": {},
   "outputs": [
    {
     "data": {
      "text/plain": [
       "0.2726953437319622"
      ]
     },
     "execution_count": 21,
     "metadata": {},
     "output_type": "execute_result"
    }
   ],
   "source": [
    "thr = 0.22\n",
    "la=1\n",
    "probs, labels = metric_calculator.get_probs_labels(high_inv=True, core_or_patch=\"patch\")\n",
    "# torchmetrics.functional.auroc(probs, labels, task=\"multiclass\", num_classes=2), torchmetrics.functional.accuracy(probs, labels, task=\"multiclass\", num_classes=2)\n",
    "from utils.metrics import expected_calibration_error, brier_score\n",
    "# probs_1d = probs[range(len(labels)), labels]\n",
    "# probs_1d = probs[range(len(labels)), (probs[:,1]>=thr).int()]\n",
    "probs_1d = probs[range(len(labels)), la]\n",
    "# brier_score(probs_1d.numpy(), labels.numpy()) \n",
    "# ece, output = expected_calibration_error(preds=(probs[:,1]>=thr).numpy(), confidence=probs_1d.numpy(), targets=labels.numpy())\n",
    "ece, output = expected_calibration_error(preds=(probs[:,1]>=thr)[labels==la].numpy(), confidence=probs_1d[labels==la].numpy(), targets=labels[labels==la].numpy())\n",
    "ece"
   ]
  },
  {
   "cell_type": "code",
   "execution_count": null,
   "metadata": {},
   "outputs": [
    {
     "data": {
      "image/png": "[encoded data removed]",
      "text/plain": [
       "<Figure size 1000x600 with 1 Axes>"
      ]
     },
     "metadata": {},
     "output_type": "display_data"
    }
   ],
   "source": [
    "# Extracting the required information for plotting\n",
    "acc_by_bin = output[\"acc_by_bin\"]\n",
    "conf_by_bin = output[\"conf_by_bin\"]\n",
    "bins = output[\"bins\"]  # Use the bin edges as given by the function\n",
    "\n",
    "# Calculate the positions for the bars\n",
    "bin_centers = (bins[:-1] + bins[1:]) / 2  # Calculate the center of each bin\n",
    "width = np.diff(bins)[0] * 0.4  # Width of the bars, adjusted for spacing\n",
    "\n",
    "# Creating the bar plot\n",
    "plt.figure(figsize=(10, 6))\n",
    "\n",
    "# Plot accuracy bars\n",
    "plt.bar(bin_centers - width/2, acc_by_bin, width=width, label='Accuracy', alpha=0.6)\n",
    "\n",
    "# Plot confidence bars\n",
    "plt.bar(bin_centers + width/2, conf_by_bin, width=width, label='Confidence', alpha=0.6)\n",
    "\n",
    "plt.xlabel('Confidence bins')\n",
    "plt.ylabel('Value')\n",
    "plt.title('Accuracy vs. Confidence (Bar Plot)')\n",
    "plt.legend()\n",
    "\n",
    "# Adjust x-axis to display bin ranges, fixing the IndexError\n",
    "plt.xticks(bin_centers, labels=[f\"{bins[i]:.2f}-{bins[i+1]:.2f}\" for i in range(len(bins)-1)], rotation=45)\n",
    "plt.xlim([bins[0], bins[-1]])\n",
    "plt.grid(True, axis='y')\n",
    "plt.tight_layout()\n",
    "\n",
    "plt.show()\n"
   ]
  },
  {
   "cell_type": "markdown",
   "metadata": {},
   "source": [
    "## Testing 10% max probs"
   ]
  },
  {
   "cell_type": "code",
   "execution_count": null,
   "metadata": {},
   "outputs": [],
   "source": [
    "## core probs and labels\n",
    "\n",
    "ids = metric_calculator.remove_low_inv_ids(metric_calculator.core_id_invs)\n",
    "# ids = list(metric_calculator.core_id_probs.keys())\n",
    "\n",
    "probs_avg_max = []\n",
    "for id, probs_list in metric_calculator.core_id_probs.items():\n",
    "    if id in ids:\n",
    "        core_len_10th = len(probs_list) // 5 + 1\n",
    "        probs, labels = torch.stack(probs_list).max(dim=1)\n",
    "        sorted_probs, indx = probs.sort()\n",
    "        sorted_probs = sorted_probs[-core_len_10th:]\n",
    "        indx = indx[-core_len_10th:]\n",
    "        labels_sorted_probs = labels[indx]\n",
    "        probs_avg_max.append(sum(sorted_probs*labels_sorted_probs)/core_len_10th)\n",
    "probs_avg_max = torch.stack(probs_avg_max)\n",
    "\n",
    "labels = torch.stack(\n",
    "    [labels_list[0] for id, labels_list in metric_calculator.core_id_labels.items() if id in ids])\n"
   ]
  },
  {
   "cell_type": "code",
   "execution_count": null,
   "metadata": {},
   "outputs": [
    {
     "data": {
      "text/plain": [
       "(tensor(0.6683), tensor(0.8987))"
      ]
     },
     "execution_count": 25,
     "metadata": {},
     "output_type": "execute_result"
    }
   ],
   "source": [
    "torchmetrics.functional.auroc(probs_avg_max, labels, task=\"binary\"), torchmetrics.functional.accuracy(probs_avg_max, labels, task=\"binary\")"
   ]
  },
  {
   "cell_type": "markdown",
   "metadata": {},
   "source": [
    "## WabdB Log"
   ]
  },
  {
   "cell_type": "code",
   "execution_count": null,
   "metadata": {},
   "outputs": [
    {
     "name": "stderr",
     "output_type": "stream",
     "text": [
      "Failed to detect the name of this notebook, you can set it manually with the WANDB_NOTEBOOK_NAME environment variable to enable code saving.\n"
     ]
    },
    {
     "name": "stderr",
     "output_type": "stream",
     "text": [
      "\u001b[34m\u001b[1mwandb\u001b[0m: Currently logged in as: \u001b[33mmahdigilany\u001b[0m. Use \u001b[1m`wandb login --relogin`\u001b[0m to force relogin\n"
     ]
    },
    {
     "data": {
      "text/html": [
       "wandb version 0.16.3 is available!  To upgrade, please run:\n",
       " $ pip install wandb --upgrade"
      ],
      "text/plain": [
       "<IPython.core.display.HTML object>"
      ]
     },
     "metadata": {},
     "output_type": "display_data"
    },
    {
     "data": {
      "text/html": [
       "Tracking run with wandb version 0.16.2"
      ],
      "text/plain": [
       "<IPython.core.display.HTML object>"
      ]
     },
     "metadata": {},
     "output_type": "display_data"
    },
    {
     "data": {
      "text/html": [
       "Run data is saved locally in <code>/fs01/home/abbasgln/codes/medAI/projects/tta/wandb/run-20240216_162827-pfoacjy0</code>"
      ],
      "text/plain": [
       "<IPython.core.display.HTML object>"
      ]
     },
     "metadata": {},
     "output_type": "display_data"
    },
    {
     "data": {
      "text/html": [
       "Syncing run <strong><a href='https://wandb.ai/mahdigilany/tta/runs/pfoacjy0' target=\"_blank\">offline_combNewCoreEnsmPsdo_0.25thr_.8uncrtn_gn_3ratio_loco_JH</a></strong> to <a href='https://wandb.ai/mahdigilany/tta' target=\"_blank\">Weights & Biases</a> (<a href='https://wandb.me/run' target=\"_blank\">docs</a>)<br/>"
      ],
      "text/plain": [
       "<IPython.core.display.HTML object>"
      ]
     },
     "metadata": {},
     "output_type": "display_data"
    },
    {
     "data": {
      "text/html": [
       " View project at <a href='https://wandb.ai/mahdigilany/tta' target=\"_blank\">https://wandb.ai/mahdigilany/tta</a>"
      ],
      "text/plain": [
       "<IPython.core.display.HTML object>"
      ]
     },
     "metadata": {},
     "output_type": "display_data"
    },
    {
     "data": {
      "text/html": [
       " View run at <a href='https://wandb.ai/mahdigilany/tta/runs/pfoacjy0' target=\"_blank\">https://wandb.ai/mahdigilany/tta/runs/pfoacjy0</a>"
      ],
      "text/plain": [
       "<IPython.core.display.HTML object>"
      ]
     },
     "metadata": {},
     "output_type": "display_data"
    },
    {
     "data": {
      "text/html": [
       "<button onClick=\"this.nextSibling.style.display='block';this.style.display='none';\">Display W&B run</button><iframe src='https://wandb.ai/mahdigilany/tta/runs/pfoacjy0?jupyter=true' style='border:none;width:100%;height:420px;display:none;'></iframe>"
      ],
      "text/plain": [
       "<wandb.sdk.wandb_run.Run at 0x7f75dd9d6740>"
      ]
     },
     "execution_count": 40,
     "metadata": {},
     "output_type": "execute_result"
    }
   ],
   "source": [
    "import wandb\n",
    "# group=f\"offline_combEnsmPsdo_.8uncrtnty_gn_3ratio_loco\"\n",
    "group=f\"offline_combNewCoreEnsmPsdo_0.25thr_.8uncrtn_gn_3ratio_loco\"\n",
    "# group=f\"offline_ensemble_avgprob_5mdls_gn_3ratio_loco\"\n",
    "name= group + f\"_{LEAVE_OUT}\"\n",
    "wandb.init(project=\"tta\", entity=\"mahdigilany\", name=name, group=group)\n"
   ]
  },
  {
   "cell_type": "code",
   "execution_count": null,
   "metadata": {},
   "outputs": [
    {
     "name": "stderr",
     "output_type": "stream",
     "text": [
      "wandb: WARNING Source type is set to 'repo' but some required information is missing from the environment. A job will not be created from this run. See https://docs.wandb.ai/guides/launch/create-job\n"
     ]
    },
    {
     "data": {
      "application/vnd.jupyter.widget-view+json": {
       "model_id": "e071db579aaf4935bf1e72b148ad06fa",
       "version_major": 2,
       "version_minor": 0
      },
      "text/plain": [
       "VBox(children=(Label(value='0.017 MB of 0.017 MB uploaded\\r'), FloatProgress(value=1.0, max=1.0)))"
      ]
     },
     "metadata": {},
     "output_type": "display_data"
    },
    {
     "data": {
      "text/html": [
       "<style>\n",
       "    table.wandb td:nth-child(1) { padding: 0 10px; text-align: left ; width: auto;} td:nth-child(2) {text-align: left ; width: 100%}\n",
       "    .wandb-row { display: flex; flex-direction: row; flex-wrap: wrap; justify-content: flex-start; width: 100% }\n",
       "    .wandb-col { display: flex; flex-direction: column; flex-basis: 100%; flex: 1; padding: 10px; }\n",
       "    </style>\n",
       "<div class=\"wandb-row\"><div class=\"wandb-col\"><h3>Run history:</h3><br/><table class=\"wandb\"><tr><td>epoch</td><td>▁</td></tr><tr><td>test/all_inv_core_accuracy</td><td>▁</td></tr><tr><td>test/all_inv_core_auroc</td><td>▁</td></tr><tr><td>test/all_inv_patch_accuracy</td><td>▁</td></tr><tr><td>test/all_inv_patch_auroc</td><td>▁</td></tr><tr><td>test/core_accuracy</td><td>▁</td></tr><tr><td>test/core_auroc</td><td>▁</td></tr><tr><td>test/patch_accuracy</td><td>▁</td></tr><tr><td>test/patch_auroc</td><td>▁</td></tr></table><br/></div><div class=\"wandb-col\"><h3>Run summary:</h3><br/><table class=\"wandb\"><tr><td>epoch</td><td>0</td></tr><tr><td>test/all_inv_core_accuracy</td><td>0.90625</td></tr><tr><td>test/all_inv_core_auroc</td><td>0.68161</td></tr><tr><td>test/all_inv_patch_accuracy</td><td>0.87503</td></tr><tr><td>test/all_inv_patch_auroc</td><td>0.60345</td></tr><tr><td>test/core_accuracy</td><td>0.92761</td></tr><tr><td>test/core_auroc</td><td>0.73781</td></tr><tr><td>test/patch_accuracy</td><td>0.89516</td></tr><tr><td>test/patch_auroc</td><td>0.64624</td></tr></table><br/></div></div>"
      ],
      "text/plain": [
       "<IPython.core.display.HTML object>"
      ]
     },
     "metadata": {},
     "output_type": "display_data"
    },
    {
     "data": {
      "text/html": [
       " View run <strong style=\"color:#cdcd00\">offline_combNewCoreEnsmPsdo_0.25thr_.8uncrtn_gn_3ratio_loco_JH</strong> at: <a href='https://wandb.ai/mahdigilany/tta/runs/pfoacjy0' target=\"_blank\">https://wandb.ai/mahdigilany/tta/runs/pfoacjy0</a><br/>Synced 5 W&B file(s), 0 media file(s), 0 artifact file(s) and 0 other file(s)"
      ],
      "text/plain": [
       "<IPython.core.display.HTML object>"
      ]
     },
     "metadata": {},
     "output_type": "display_data"
    },
    {
     "data": {
      "text/html": [
       "Find logs at: <code>./wandb/run-20240216_162827-pfoacjy0/logs</code>"
      ],
      "text/plain": [
       "<IPython.core.display.HTML object>"
      ]
     },
     "metadata": {},
     "output_type": "display_data"
    }
   ],
   "source": [
    "metrics_dict.update({\"epoch\": 0})\n",
    "wandb.log(\n",
    "    metrics_dict,\n",
    "    )\n",
    "wandb.finish()"
   ]
  },
  {
   "cell_type": "code",
   "execution_count": null,
   "metadata": {},
   "outputs": [],
   "source": []
  }
 ],
 "metadata": {
  "kernelspec": {
   "display_name": "mttt",
   "language": "python",
   "name": "python3"
  },
  "language_info": {
   "codemirror_mode": {
    "name": "ipython",
    "version": 3
   },
   "file_extension": ".py",
   "mimetype": "text/x-python",
   "name": "python",
   "nbconvert_exporter": "python",
   "pygments_lexer": "ipython3",
   "version": "3.10.4"
  }
 },
 "nbformat": 4,
 "nbformat_minor": 2
}
